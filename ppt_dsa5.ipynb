{
 "cells": [
  {
   "cell_type": "markdown",
   "metadata": {},
   "source": [
    "####  **Question 1**\n",
    "#### Convert 1D Array Into 2D Array\n",
    "#### You are given a **0-indexed** 1-dimensional (1D) integer array original, and two integers, m and n. You are tasked with creating a 2-dimensional (2D) array with  m rows and n columns using **all** the elements from original.\n",
    "#### The elements from indices 0 to n - 1 (**inclusive**) of original should form the first row of the constructed 2D array, the elements from indices n to 2 * n - 1 (**inclusive**) should form the second row of the constructed 2D array, and so on. Return *an* m x n *2D array constructed according to the above procedure, or an empty 2D array if it is impossible*.\n",
    "#### **Example 1:**\n",
    "#### **Input:** original = [1,2,3,4], m = 2, n = 2\n",
    "#### **Output:** [[1,2],[3,4]]\n",
    "#### **Explanation:** The constructed 2D array should contain 2 rows and 2 columns.\n",
    "#### The first group of n=2 elements in original, [1,2], becomes the first row in the constructed 2D array.\n",
    "#### The second group of n=2 elements in original, [3,4], becomes the second row in the constructed 2D array."
   ]
  },
  {
   "cell_type": "code",
   "execution_count": 27,
   "metadata": {},
   "outputs": [
    {
     "ename": "TypeError",
     "evalue": "object of type 'int' has no len()",
     "output_type": "error",
     "traceback": [
      "\u001b[1;31m---------------------------------------------------------------------------\u001b[0m",
      "\u001b[1;31mTypeError\u001b[0m                                 Traceback (most recent call last)",
      "\u001b[1;32m<ipython-input-27-490c83060682>\u001b[0m in \u001b[0;36m<module>\u001b[1;34m()\u001b[0m\n\u001b[0;32m     10\u001b[0m \u001b[1;33m\u001b[0m\u001b[0m\n\u001b[0;32m     11\u001b[0m     \u001b[1;32mreturn\u001b[0m \u001b[0marr1\u001b[0m\u001b[1;33m\u001b[0m\u001b[0m\n\u001b[1;32m---> 12\u001b[1;33m \u001b[0mprint\u001b[0m\u001b[1;33m(\u001b[0m\u001b[0mchangeshape\u001b[0m\u001b[1;33m(\u001b[0m\u001b[1;33m[\u001b[0m\u001b[1;36m1\u001b[0m\u001b[1;33m,\u001b[0m\u001b[1;36m2\u001b[0m\u001b[1;33m,\u001b[0m\u001b[1;36m3\u001b[0m\u001b[1;33m,\u001b[0m\u001b[1;36m4\u001b[0m\u001b[1;33m]\u001b[0m\u001b[1;33m,\u001b[0m\u001b[1;36m2\u001b[0m\u001b[1;33m,\u001b[0m\u001b[1;36m2\u001b[0m\u001b[1;33m)\u001b[0m\u001b[1;33m)\u001b[0m\u001b[1;33m\u001b[0m\u001b[0m\n\u001b[0m",
      "\u001b[1;32m<ipython-input-27-490c83060682>\u001b[0m in \u001b[0;36mchangeshape\u001b[1;34m(arr, m, n)\u001b[0m\n\u001b[0;32m      1\u001b[0m \u001b[1;32mdef\u001b[0m \u001b[0mchangeshape\u001b[0m\u001b[1;33m(\u001b[0m\u001b[0marr\u001b[0m\u001b[1;33m,\u001b[0m\u001b[0mm\u001b[0m\u001b[1;33m,\u001b[0m\u001b[0mn\u001b[0m\u001b[1;33m)\u001b[0m\u001b[1;33m:\u001b[0m\u001b[1;33m\u001b[0m\u001b[0m\n\u001b[0;32m      2\u001b[0m     \u001b[0marr1\u001b[0m \u001b[1;33m=\u001b[0m \u001b[1;33m[\u001b[0m\u001b[1;33m[\u001b[0m\u001b[1;36m0\u001b[0m\u001b[1;33m]\u001b[0m \u001b[1;32mfor\u001b[0m \u001b[0m_\u001b[0m \u001b[1;32min\u001b[0m \u001b[0mrange\u001b[0m\u001b[1;33m(\u001b[0m\u001b[0mm\u001b[0m\u001b[1;33m)\u001b[0m\u001b[1;33m]\u001b[0m\u001b[1;33m\u001b[0m\u001b[0m\n\u001b[1;32m----> 3\u001b[1;33m     \u001b[1;32mif\u001b[0m \u001b[0mlen\u001b[0m\u001b[1;33m(\u001b[0m\u001b[0marr\u001b[0m\u001b[1;33m)\u001b[0m \u001b[1;33m==\u001b[0m \u001b[1;36m0\u001b[0m \u001b[1;32mor\u001b[0m \u001b[1;33m(\u001b[0m\u001b[0mm\u001b[0m\u001b[1;33m*\u001b[0m\u001b[0mn\u001b[0m\u001b[1;33m)\u001b[0m \u001b[1;33m!=\u001b[0m \u001b[0mlen\u001b[0m\u001b[1;33m(\u001b[0m\u001b[0marr\u001b[0m\u001b[1;33m)\u001b[0m \u001b[1;33m*\u001b[0m\u001b[0mlen\u001b[0m\u001b[1;33m(\u001b[0m\u001b[0marr\u001b[0m\u001b[1;33m[\u001b[0m\u001b[1;36m0\u001b[0m\u001b[1;33m]\u001b[0m\u001b[1;33m)\u001b[0m\u001b[1;33m:\u001b[0m\u001b[1;33m\u001b[0m\u001b[0m\n\u001b[0m\u001b[0;32m      4\u001b[0m         \u001b[1;32mreturn\u001b[0m \u001b[0marr\u001b[0m\u001b[1;33m\u001b[0m\u001b[0m\n\u001b[0;32m      5\u001b[0m     \u001b[1;32melse\u001b[0m\u001b[1;33m:\u001b[0m\u001b[1;33m\u001b[0m\u001b[0m\n",
      "\u001b[1;31mTypeError\u001b[0m: object of type 'int' has no len()"
     ]
    }
   ],
   "source": [
    "def changeshape(arr,m,n):\n",
    "    arr1 = [[0] for _ in range(m)]\n",
    "    if len(arr) == 0 or (m*n) != len(arr) *len(arr[0]):\n",
    "        return arr\n",
    "    else:\n",
    "        c = 0\n",
    "        for i in range(len(arr)):\n",
    "            for j in range(len(arr[i])):\n",
    "                arr1[i][j]=arr[c]\n",
    "            \n",
    "    return arr1\n",
    "print(changeshape([1,2,3,4],2,2))\n"
   ]
  },
  {
   "cell_type": "markdown",
   "metadata": {},
   "source": [
    "####  **Question 2**\n",
    "#### You have n coins and you want to build a staircase with these coins. The staircase consists of k rows where the ith row has exactly i coins. The last row of the staircase **may be** incomplete.\n",
    "#### Given the integer n, return *the number of **complete rows** of the staircase you will build*.\n",
    "#### **Example 1:**\n",
    "#### **Input:** n = 5\n",
    "#### *Output:** 2\n",
    "#### **Explanation:** Because the 3rd row is incomplete, we return 2."
   ]
  },
  {
   "cell_type": "code",
   "execution_count": 11,
   "metadata": {},
   "outputs": [
    {
     "name": "stdout",
     "output_type": "stream",
     "text": [
      "2\n"
     ]
    }
   ],
   "source": [
    "def arrangecoins(n):\n",
    "    l = 0\n",
    "    r = n\n",
    "    res = 0\n",
    "    while l<=r:\n",
    "        mid = (l+r)//2\n",
    "        coins = (mid/2) * (mid+1)\n",
    "        if coins>n:\n",
    "            r = mid-1\n",
    "        else:\n",
    "            l = mid+1\n",
    "            res = max(mid,res)\n",
    "            \n",
    "    return res\n",
    "print(arrangecoins(5))"
   ]
  },
  {
   "cell_type": "markdown",
   "metadata": {},
   "source": [
    "#### Question 3\n",
    "####  Given an integer array nums sorted in **non-decreasing** order, return *an array of **the squares of each number** sorted in non-decreasing order*.\n",
    "#### **Example 1:**\n",
    "#### Input: nums = [-4,-1,0,3,10]\n",
    "#### Output: [0,1,9,16,100]\n",
    "#### **Explanation:** After squaring, the array becomes [16,1,0,9,100].\n",
    "#### After sorting, it becomes [0,1,9,16,100]\n"
   ]
  },
  {
   "cell_type": "code",
   "execution_count": 12,
   "metadata": {},
   "outputs": [
    {
     "name": "stdout",
     "output_type": "stream",
     "text": [
      "[0, 1, 9, 16, 100]\n"
     ]
    }
   ],
   "source": [
    "def sqr(arr):\n",
    "    l = []\n",
    "    for i in range(len(arr)):\n",
    "        l.append(arr[i]**2)\n",
    "    l.sort()\n",
    "    return l\n",
    "\n",
    "print(sqr([-4,-1,0,3,10]))"
   ]
  },
  {
   "cell_type": "markdown",
   "metadata": {},
   "source": [
    "#### **Question 4**\n",
    "#### Given two **0-indexed** integer arrays nums1 and nums2, return *a list* answer *of size* 2 *where:*\n",
    "####  answer[0] *is a list of all **distinct** integers in* nums1 *which are **not** present in* nums2*.*\n",
    "####  answer[1] *is a list of all **distinct** integers in* nums2 *which are **not** present in* nums1.\n",
    "#### **Note** that the integers in the lists may be returned in **any** order.\n",
    "#### **Example 1:**\n",
    "#### **Input:** nums1 = [1,2,3], nums2 = [2,4,6]\n",
    "#### **Output:** [[1,3],[4,6]]\n",
    "#### **Explanation:**\n",
    "#### For nums1, nums1[1] = 2 is present at index 0 of nums2, whereas nums1[0] = 1 and nums1[2] = 3 are not present in nums2. Therefore, answer[0] = [1,3].\n",
    "#### For nums2, nums2[0] = 2 is present at index 1 of nums1, whereas nums2[1] = 4 and nums2[2] = 6 are not present in nums2. Therefore, answer[1] = [4,6].\n"
   ]
  },
  {
   "cell_type": "code",
   "execution_count": 13,
   "metadata": {},
   "outputs": [
    {
     "name": "stdout",
     "output_type": "stream",
     "text": [
      "[[1, 3], [4, 6]]\n"
     ]
    }
   ],
   "source": [
    "def allu(arr1,arr2):\n",
    "    arr1 = set(arr1)\n",
    "    arr2 = set(arr2)\n",
    "    \n",
    "    l1 = list(arr1.difference(arr2))\n",
    "    l2 = list(arr2.difference(arr1))\n",
    "    \n",
    "    l = []\n",
    "    \n",
    "    l.append(l1)\n",
    "    l.append(l2)\n",
    "    \n",
    "    return l\n",
    "print(allu( [1,2,3],[2,4,6]))"
   ]
  },
  {
   "cell_type": "markdown",
   "metadata": {},
   "source": [
    "#### **Question 5**\n",
    "#### Given two integer arrays arr1 and arr2, and the integer d, *return the distance value between the two arrays*.\n",
    "#### The distance value is defined as the number of elements arr1[i] such that there is not any element arr2[j] where |arr1[i]-arr2[j]| <= d.\n",
    "#### **Example 1:**\n",
    "#### **Input:** arr1 = [4,5,8], arr2 = [10,9,1,8], d = 2\n",
    "#### **Output:** 2"
   ]
  },
  {
   "cell_type": "code",
   "execution_count": 14,
   "metadata": {},
   "outputs": [
    {
     "name": "stdout",
     "output_type": "stream",
     "text": [
      "3\n"
     ]
    }
   ],
   "source": [
    "def makediff(arr1,arr2,d):\n",
    "    count = 0\n",
    "    for i in range(len(arr1)):\n",
    "        for j in range(len(arr2)):\n",
    "            if abs(arr1[i]-arr2[j])<=d:\n",
    "                count+=1\n",
    "                \n",
    "    return count\n",
    "\n",
    "print(makediff([4,5,8],[10,9,1,8],2))"
   ]
  },
  {
   "cell_type": "markdown",
   "metadata": {},
   "source": [
    "#### **Question 6**\n",
    "#### Given an integer array nums of length n where all the integers of nums are in the range [1, n] and each integer appears **once** or **twice**, return *an array of all the integers that appears **twice***.\n",
    "#### You must write an algorithm that runs in O(n) time and uses only constant extra space.\n",
    "#### **Example 1:**\n",
    "#### **Input:** nums = [4,3,2,7,8,2,3,1]\n",
    "#### **Output:** [2,3]\n"
   ]
  },
  {
   "cell_type": "code",
   "execution_count": 16,
   "metadata": {},
   "outputs": [
    {
     "name": "stdout",
     "output_type": "stream",
     "text": [
      "[3, 2]\n"
     ]
    }
   ],
   "source": [
    "def returnduplicate(nums):\n",
    "    l = []\n",
    "    for i in nums:\n",
    "        if nums.count(i)>1:\n",
    "            l.append(i)\n",
    "            nums.remove(i)\n",
    "            \n",
    "            \n",
    "    return l\n",
    "\n",
    "print(returnduplicate([4,3,2,7,8,2,3,1]))\n",
    "            "
   ]
  },
  {
   "cell_type": "markdown",
   "metadata": {},
   "source": [
    "#### Question 7\n",
    "#### Suppose an array of length n sorted in ascending order is **rotated** between 1 and n times. For example, the array nums = [0,1,2,4,5,6,7] might become: - [4,5,6,7,0,1,2] if it was rotated 4 times. - [0,1,2,4,5,6,7] if it was rotated 7 times.\n",
    "#### Notice that **rotating** an array [a[0], a[1], a[2], ..., a[n-1]] 1 time results in the array [a[n-1], a[0], a[1], a[2], ..., a[n-2]].\n",
    "#### Given the sorted rotated array nums of **unique** elements, return *the minimum element of this array*.\n",
    "#### You must write an algorithm that runs in O(log n) time.\n",
    "#### **Example 1:**\n",
    "#### **Input:** nums = [3,4,5,1,2]\n",
    "#### **Output:** 1\n",
    "#### **Explanation:**\n",
    "#### The original array was [1,2,3,4,5] rotated 3 times."
   ]
  },
  {
   "cell_type": "code",
   "execution_count": 17,
   "metadata": {},
   "outputs": [
    {
     "name": "stdout",
     "output_type": "stream",
     "text": [
      "1\n"
     ]
    }
   ],
   "source": [
    "def findmin(nums):\n",
    "    return min(nums)\n",
    "print(findmin([3,4,5,1,2]))"
   ]
  },
  {
   "cell_type": "markdown",
   "metadata": {},
   "source": [
    "#### **Question 8**\n",
    "#### An integer array original is transformed into a **doubled** array changed by appending **twice the value** of every element in original, and then randomly **shuffling** the resulting array.\n",
    "#### Given an array changed, return original *if* changed *is a **doubled** array. If* changed *is not a **doubled** array, return an empty array. The elements in* original *may be returned in **any** order*.\n",
    "#### **Example 1:**\n",
    "#### **Input:** changed = [1,3,4,2,6,8]\n",
    "#### **Output:** [1,3,4]\n",
    "#### **Explanation:** One possible original array could be [1,3,4]:\n",
    "#### - Twice the value of 1 is 1 * 2 = 2. \n",
    "#### - Twice the value of 3 is 3 * 2 = 6.\n",
    "#### - Twice the value of 4 is 4 * 2 = 8.\n",
    "#### Other original arrays could be [4,3,1] or [3,1,4]."
   ]
  },
  {
   "cell_type": "code",
   "execution_count": 24,
   "metadata": {},
   "outputs": [
    {
     "name": "stdout",
     "output_type": "stream",
     "text": [
      "[1, 3, 4]\n"
     ]
    }
   ],
   "source": [
    "def findsqrs(nums):\n",
    "    l = []\n",
    "    k=len(nums)//2\n",
    "    for i in nums[:k]:\n",
    "        if i*2 in nums:\n",
    "            l.append(i)\n",
    "            \n",
    "    return l\n",
    "\n",
    "print(findsqrs([1,3,4,2,6,8]))"
   ]
  },
  {
   "cell_type": "code",
   "execution_count": null,
   "metadata": {},
   "outputs": [],
   "source": []
  }
 ],
 "metadata": {
  "kernelspec": {
   "display_name": "Python 3",
   "language": "python",
   "name": "python3"
  },
  "language_info": {
   "codemirror_mode": {
    "name": "ipython",
    "version": 3
   },
   "file_extension": ".py",
   "mimetype": "text/x-python",
   "name": "python",
   "nbconvert_exporter": "python",
   "pygments_lexer": "ipython3",
   "version": "3.6.5"
  }
 },
 "nbformat": 4,
 "nbformat_minor": 2
}
