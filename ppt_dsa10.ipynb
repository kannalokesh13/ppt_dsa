{
 "cells": [
  {
   "cell_type": "markdown",
   "metadata": {},
   "source": [
    "#### Given an integer `n`, return *`true` if it is a power of three. Otherwise, return `false`*. An integer `n` is a power of three, if there exists an integer `x` such that `n == 3x`.\n",
    "#### **Example 1:**\n",
    "#### Input: n = 27\n",
    "#### Output: true\n",
    "#### Explanation: 27 = 33"
   ]
  },
  {
   "cell_type": "code",
   "execution_count": 5,
   "metadata": {},
   "outputs": [
    {
     "name": "stdout",
     "output_type": "stream",
     "text": [
      "True\n",
      "False\n"
     ]
    }
   ],
   "source": [
    "def powerof3(num):\n",
    "    if num==1:\n",
    "        return True\n",
    "    elif num<=0 or num%3!=0:\n",
    "        return False\n",
    "    return powerof3(num//3)\n",
    "\n",
    "print(powerof3(27))\n",
    "print(powerof3(0))"
   ]
  },
  {
   "cell_type": "markdown",
   "metadata": {},
   "source": [
    "#### You have a list `arr` of all integers in the range `[1, n]` sorted in a strictly increasing order. Apply the following algorithm on `arr`:\n",
    "#### - Starting from left to right, remove the first number and every other number afterward until you reach the end of the list.\n",
    "#### - Repeat the previous step again, but this time from right to left, remove the rightmost number and every other number from the remaining numbers.\n",
    "#### - Keep repeating the steps again, alternating left to right and right to left, until a single number remains.\n",
    "#### Given the integer `n`, return *the last number that remains in* `arr`.\n",
    "#### **Example 1:**\n",
    "#### Input: n = 9\n",
    "#### Output: 6\n",
    "#### Explanation:\n",
    "#### arr = [1, 2,3, 4,5, 6,7, 8,9]\n",
    "#### arr = [2,4, 6,8]\n",
    "#### arr = [2, 6]\n",
    "#### arr = [6]"
   ]
  },
  {
   "cell_type": "code",
   "execution_count": 17,
   "metadata": {},
   "outputs": [
    {
     "name": "stdout",
     "output_type": "stream",
     "text": [
      "6\n",
      "1\n"
     ]
    }
   ],
   "source": [
    "def repeat(n):\n",
    "    left = True\n",
    "    head = 1\n",
    "    step = 1\n",
    "    remaining = n\n",
    "    while remaining>1:\n",
    "        if left or remaining%2==1:\n",
    "            head+=step\n",
    "        step*=2\n",
    "        remaining//=2\n",
    "        left = not left\n",
    "    \n",
    "    return head\n",
    "    \n",
    "    \n",
    "print(repeat(9))\n",
    "print(repeat(1))\n"
   ]
  },
  {
   "cell_type": "markdown",
   "metadata": {},
   "source": [
    "#### **Question 3**\n",
    "#### ****Given a set represented as a string, write a recursive code to print all subsets of it. The subsets can be printed in any order.\n",
    "#### **Example 1:**\n",
    "#### Input :  set = “abc”\n",
    "#### Output : { “”, “a”, “b”, “c”, “ab”, “ac”, “bc”, “abc”}\n",
    "#### **Example 2:**\n",
    "#### Input : set = “abcd”\n",
    "#### Output : { “”, “a” ,”ab” ,”abc” ,”abcd”, “abd” ,”ac” ,”acd”, “ad” ,”b”, “bc” ,”bcd” ,”bd” ,”c” ,”cd” ,”d” }"
   ]
  },
  {
   "cell_type": "code",
   "execution_count": 21,
   "metadata": {},
   "outputs": [
    {
     "name": "stdout",
     "output_type": "stream",
     "text": [
      "abcd\n",
      "abc\n",
      "abd\n",
      "ab\n",
      "acd\n",
      "ac\n",
      "ad\n",
      "a\n",
      "bcd\n",
      "bc\n",
      "bd\n",
      "b\n",
      "cd\n",
      "c\n",
      "d\n",
      "\n"
     ]
    }
   ],
   "source": [
    "def Subsets(set_string, current_set='', index=0):\n",
    "    if index == len(set_string):\n",
    "        print(current_set)\n",
    "        return\n",
    "\n",
    "    Subsets(set_string, current_set + set_string[index], index + 1)\n",
    "\n",
    "    Subsets(set_string, current_set, index + 1)\n",
    "\n",
    "\n",
    "set_string = \"abcd\"\n",
    "printSubsets(set_string)\n"
   ]
  },
  {
   "cell_type": "markdown",
   "metadata": {},
   "source": [
    "#### Question 4\n",
    "#### Given a string calculate length of the string using recursion.\n",
    "#### **Examples:**\n",
    "#### Input : str = \"abcd\"\n",
    "#### Output :4\n",
    "\n",
    "#### Input : str = \"GEEKSFORGEEKS\"\n",
    "#### Output :13"
   ]
  },
  {
   "cell_type": "code",
   "execution_count": 24,
   "metadata": {},
   "outputs": [
    {
     "name": "stdout",
     "output_type": "stream",
     "text": [
      "4\n",
      "13\n"
     ]
    }
   ],
   "source": [
    "def string_length(s):\n",
    "    if s=='':\n",
    "        return 0\n",
    "    return 1+string_length(s[1:])\n",
    "\n",
    "print(string_length(\"abcd\"))\n",
    "print(string_length(\"GEEKSFORGEEKS\"))"
   ]
  },
  {
   "cell_type": "code",
   "execution_count": 29,
   "metadata": {},
   "outputs": [
    {
     "name": "stdout",
     "output_type": "stream",
     "text": [
      "7\n"
     ]
    }
   ],
   "source": [
    "def contagioussubstring(s):\n",
    "    n = len(s)\n",
    "    count = 0\n",
    "    for i in range(n):\n",
    "        for j in range(i, n):\n",
    "            if s[i] == s[j]:\n",
    "                count += 1\n",
    "            \n",
    "    return count\n",
    "\n",
    "print(contagioussubstring(\"abcab\"))"
   ]
  },
  {
   "cell_type": "markdown",
   "metadata": {},
   "source": [
    "#### **Question 6**\n",
    "#### The [tower of Hanoi](https://en.wikipedia.org/wiki/Tower_of_Hanoi) is a famous puzzle where we have three rods and **N** disks. The objective of the puzzle is to move the entire stack to another rod. You are given the number of discs **N**. Initially, these discs are in the rod 1. You need to print all the steps of discs movement so that all the discs reach the 3rd rod. Also, you need to find the total moves.**Note:** The discs are arranged such that the **top disc is numbered 1** and the **bottom-most disc is numbered N**. Also, all the discs have **different sizes** and a bigger disc **cannot** be put on the top of a smaller disc. Refer the provided link to get a better clarity about the puzzle.\n",
    "#### **Example 1:**\n",
    "#### Input:\n",
    "#### N = 2\n",
    "#### Output:\n",
    "#### move disk 1 from rod 1 to rod 2\n",
    "#### move disk 2 from rod 1 to rod 3\n",
    "#### move disk 1 from rod 2 to rod 3\n",
    "#### 3\n",
    "#### Explanation:For N=2 , steps will beas follows in the example and total 3 steps will be taken."
   ]
  },
  {
   "cell_type": "code",
   "execution_count": 6,
   "metadata": {},
   "outputs": [
    {
     "name": "stdout",
     "output_type": "stream",
     "text": [
      "move disk 1 from rod 1 to rod 2 \n",
      "move disk 2 from rod 1 to rod 3 \n",
      "move disk 1 from rod 2 to rod 3 \n",
      "____________________________________________________________\n",
      "move disk 1 from rod 1 to rod 3 \n",
      "move disk 2 from rod 1 to rod 2 \n",
      "move disk 1 from rod 3 to rod 2 \n",
      "move disk 3 from rod 1 to rod 3 \n",
      "move disk 1 from rod 2 to rod 1 \n",
      "move disk 2 from rod 2 to rod 3 \n",
      "move disk 1 from rod 1 to rod 3 \n"
     ]
    }
   ],
   "source": [
    "def towerofhenoi(n,from_rod=1,to_rod=3,help_rod=2):\n",
    "    if n==0:\n",
    "        return \n",
    "    towerofhenoi(n-1,from_rod,help_rod,to_rod)\n",
    "    print(f\"move disk {n} from rod {from_rod} to rod {to_rod} \")\n",
    "    towerofhenoi(n-1,help_rod,to_rod,from_rod)\n",
    "    \n",
    "towerofhenoi(2)\n",
    "print(\"__\"*30)\n",
    "towerofhenoi(3)"
   ]
  },
  {
   "cell_type": "markdown",
   "metadata": {},
   "source": [
    "#### **Question 7**\n",
    "#### Given a string **str**, the task is to print all the permutations of **str**. A **permutation** is an arrangement of all or part of a set of objects, with regard to the order of the arrangement. For instance, the words ‘bat’ and ‘tab’ represents two distinct permutation (or arrangements) of a similar three letter word.\n",
    "#### **Examples:**\n",
    "#### Input: str = “cd”\n",
    "#### **Output:** cd dc\n",
    "#### **Input:** str = “abb”\n",
    "#### **Output:** abb abb bab bba bab bba"
   ]
  },
  {
   "cell_type": "code",
   "execution_count": 13,
   "metadata": {},
   "outputs": [
    {
     "name": "stdout",
     "output_type": "stream",
     "text": [
      "['cd', 'dc']\n",
      "['abb', 'abb', 'bab', 'bba', 'bab', 'bba']\n"
     ]
    }
   ],
   "source": [
    "def permute(s):\n",
    "    if len(s) == 1:\n",
    "        return [s]\n",
    "\n",
    "    permutations = []\n",
    "    for i in range(len(s)):\n",
    "        first_char = s[i]\n",
    "        remaining_chars = s[:i] + s[i+1:]\n",
    "        for perm in permute(remaining_chars):\n",
    "            permutations.append(first_char + perm)\n",
    "\n",
    "    return permutations\n",
    "\n",
    "\n",
    "\n",
    "print(permute(\"cd\"))\n",
    "print(permute(\"abb\"))"
   ]
  },
  {
   "cell_type": "markdown",
   "metadata": {},
   "source": [
    "#### **Question 8**\n",
    "#### Given a string, count total number of consonants in it. A consonant is an English alphabet character that is not vowel (a, e, i, o and u). Examples of constants are b, c, d, f, and g.\n",
    "#### **Examples :**\n",
    "#### Input : abc de\n",
    "#### Output : 3\n",
    "#### There are three consonants b, c and d.\n",
    "\n",
    "#### Input : geeksforgeeks portal\n",
    "#### Output : 12"
   ]
  },
  {
   "cell_type": "code",
   "execution_count": 9,
   "metadata": {},
   "outputs": [
    {
     "name": "stdout",
     "output_type": "stream",
     "text": [
      "3\n",
      "12\n"
     ]
    }
   ],
   "source": [
    "def countconsonants(s):\n",
    "    count = 0\n",
    "    v = ['a','e','i','o','u',' ']\n",
    "    for i in s:\n",
    "        if i not in v:\n",
    "            count+=1\n",
    "    return count\n",
    "\n",
    "print(countconsonants(\"abc de\"))\n",
    "print(countconsonants(\"geeksforgeeks portal\"))"
   ]
  },
  {
   "cell_type": "code",
   "execution_count": null,
   "metadata": {},
   "outputs": [],
   "source": []
  }
 ],
 "metadata": {
  "kernelspec": {
   "display_name": "Python 3",
   "language": "python",
   "name": "python3"
  },
  "language_info": {
   "codemirror_mode": {
    "name": "ipython",
    "version": 3
   },
   "file_extension": ".py",
   "mimetype": "text/x-python",
   "name": "python",
   "nbconvert_exporter": "python",
   "pygments_lexer": "ipython3",
   "version": "3.6.5"
  }
 },
 "nbformat": 4,
 "nbformat_minor": 2
}
