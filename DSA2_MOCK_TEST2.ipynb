{
 "cells": [
  {
   "cell_type": "code",
   "execution_count": 9,
   "id": "93f794ec",
   "metadata": {},
   "outputs": [],
   "source": [
    "def add_numbers(list1,list2):\n",
    "    if list1 is None:\n",
    "        curr = list2\n",
    "        s1 = \" \"\n",
    "        while curr:\n",
    "            s1+=str(curr.data)\n",
    "            curr=curr.next\n",
    "            \n",
    "        k=s1[::-1]\n",
    "        \n",
    "        return int(k)\n",
    "    elif list2 is None:\n",
    "        curr = list1\n",
    "        s1 = \" \"\n",
    "        while curr:\n",
    "            s1+=str(curr.data)\n",
    "            curr=curr.next\n",
    "            \n",
    "        k=s1[::-1]\n",
    "        \n",
    "        return int(k)\n",
    "    elif list1 is None and list2 is None:\n",
    "        return 0\n",
    "    else:\n",
    "        curr1 = list1\n",
    "        curr2 = list2\n",
    "        s1 = \" \"\n",
    "        s2 = \" \"\n",
    "        while curr1:\n",
    "            s1+=str(curr1.data)\n",
    "            curr1=curr1.next\n",
    "            \n",
    "        while curr2:\n",
    "            s2+=str(curr2.data)\n",
    "            curr2=curr2.next\n",
    "            \n",
    "            \n",
    "        k1=s1[::-1]\n",
    "        k2=s2[::-1]\n",
    "        \n",
    "        sum = int(k1)+int(k2)\n",
    "        \n",
    "        return sum\n",
    "        \n",
    "        \n",
    "            \n",
    "        "
   ]
  },
  {
   "cell_type": "code",
   "execution_count": null,
   "id": "8ef40cc7",
   "metadata": {},
   "outputs": [],
   "source": []
  }
 ],
 "metadata": {
  "kernelspec": {
   "display_name": "Python 3 (ipykernel)",
   "language": "python",
   "name": "python3"
  },
  "language_info": {
   "codemirror_mode": {
    "name": "ipython",
    "version": 3
   },
   "file_extension": ".py",
   "mimetype": "text/x-python",
   "name": "python",
   "nbconvert_exporter": "python",
   "pygments_lexer": "ipython3",
   "version": "3.9.7"
  }
 },
 "nbformat": 4,
 "nbformat_minor": 5
}
