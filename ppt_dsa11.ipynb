{
 "cells": [
  {
   "cell_type": "markdown",
   "metadata": {},
   "source": [
    "#### **Question 2**\n",
    "#### A peak element is an element that is strictly greater than its neighbors.\n",
    "#### Given a **0-indexed** integer array `nums`, find a peak element, and return its index. If the array contains multiple peaks, return the index to **any of the peaks**. You may imagine that `nums[-1] = nums[n] = -∞`. In other words, an element is always considered to be strictly greater than a neighbor that is outside the array.\n",
    "#### You must write an algorithm that runs in `O(log n)` time.\n",
    "#### **Example 1:**\n",
    "#### Input: nums = [1,2,3,1]\n",
    "#### Output: 2\n",
    "#### Explanation: 3 is a peak element and your function should return the index number 2."
   ]
  },
  {
   "cell_type": "code",
   "execution_count": 2,
   "metadata": {},
   "outputs": [
    {
     "name": "stdout",
     "output_type": "stream",
     "text": [
      "1\n"
     ]
    }
   ],
   "source": [
    "def peak(nums):\n",
    "    low = 0\n",
    "    high = len(nums)-1\n",
    "    maximum = 0\n",
    "    while low<=high:\n",
    "        mid = (low+high)//2\n",
    "        if maximum<mid:\n",
    "            high = mid-1\n",
    "            maximum = mid\n",
    "        else:\n",
    "            low = mid+1\n",
    "            \n",
    "    return maximum\n",
    "\n",
    "print(peak([1,2,3,1]))"
   ]
  },
  {
   "cell_type": "markdown",
   "metadata": {},
   "source": [
    "#### **Question 3**\n",
    "#### Given an array `nums` containing `n` distinct numbers in the range `[0, n]`, return *the only number in the range that is missing from the array.*\n",
    "#### Example 1:\n",
    "#### Input: nums = [3,0,1]\n",
    "#### Output: 2\n",
    "#### Explanation: n = 3 since there are 3 numbers, so all numbers are in the range [0,3]. 2 is the missing number in the range since it does not appear in nums.\n"
   ]
  },
  {
   "cell_type": "code",
   "execution_count": 7,
   "metadata": {},
   "outputs": [
    {
     "name": "stdout",
     "output_type": "stream",
     "text": [
      "2\n",
      "1\n",
      "8\n"
     ]
    }
   ],
   "source": [
    "def findmissing(nums):\n",
    "    nums.sort()\n",
    "    for i in range(nums[-1]):\n",
    "        if nums[i]!=nums[i+1]-1:\n",
    "            return i+1\n",
    "        \n",
    "print(findmissing([3,0,1]))\n",
    "print(findmissing([0,2]))\n",
    "print(findmissing([9,6,4,2,3,5,7,0,1]))"
   ]
  },
  {
   "cell_type": "markdown",
   "metadata": {},
   "source": [
    "#### **Question 4**\n",
    "#### Given an array of integers `nums` containing `n + 1` integers where each integer is in the range `[1, n]` inclusive.\n",
    "#### There is only **one repeated number** in `nums`, return *this repeated number*.\n",
    "#### You must solve the problem **without** modifying the array `nums` and uses only constant extra space.\n",
    "#### **Example 1:**\n",
    "#### Input: nums = [1,3,4,2,2]\n",
    "#### Output: 2\n"
   ]
  },
  {
   "cell_type": "code",
   "execution_count": 9,
   "metadata": {},
   "outputs": [
    {
     "name": "stdout",
     "output_type": "stream",
     "text": [
      "2\n",
      "3\n"
     ]
    }
   ],
   "source": [
    "def findduplicate(nums):\n",
    "    for i in nums:\n",
    "        if nums.count(i)>1:\n",
    "            return i\n",
    "print(findduplicate([1,3,4,2,2]))\n",
    "print(findduplicate([3,1,3,4,2]))"
   ]
  },
  {
   "cell_type": "markdown",
   "metadata": {},
   "source": [
    "#### **Question 5**\n",
    "### Given two integer arrays `nums1` and `nums2`, return *an array of their intersection*. Each element in the result must be **unique** and you may return the result in **any order**.\n",
    "#### **Example 1:**\n",
    "#### Input: nums1 = [1,2,2,1], nums2 = [2,2]\n",
    "#### Output: [2]\n",
    "\n"
   ]
  },
  {
   "cell_type": "code",
   "execution_count": 1,
   "metadata": {},
   "outputs": [
    {
     "name": "stdout",
     "output_type": "stream",
     "text": [
      "[2]\n",
      "[4, 9]\n"
     ]
    }
   ],
   "source": [
    "def intersect(num1,num2):\n",
    "    l1 = []\n",
    "    for i in num1:\n",
    "        if i in num2:\n",
    "            if i not in l1:\n",
    "                l1.append(i)\n",
    "            \n",
    "    return l1\n",
    "\n",
    "print(intersect([1,2,2,1],[2,2]))\n",
    "print(intersect([4,9,5],[9,4,9,8,4]))\n"
   ]
  },
  {
   "cell_type": "markdown",
   "metadata": {},
   "source": [
    "#### **Question 6**\n",
    "#### Suppose an array of length `n` sorted in ascending order is **rotated** between `1` and `n` times. For example, the array `nums = [0,1,2,4,5,6,7]` might become:\n",
    "#### - `[4,5,6,7,0,1,2]` if it was rotated `4` times.\n",
    "#### - `[0,1,2,4,5,6,7]` if it was rotated `7` times.\n",
    "#### Notice that **rotating** an array `[a[0], a[1], a[2], ..., a[n-1]]` 1 time results in the array `[a[n-1], a[0], a[1], a[2], ..., a[n-2]]`.\n",
    "#### Given the sorted rotated array `nums` of **unique** elements, return *the minimum element of this array*.\n",
    "#### You must write an algorithm that runs in `O(log n) time.`\n",
    "#### **Example 1:**\n",
    "#### Input: nums = [3,4,5,1,2]\n",
    "#### Output: 1\n",
    "#### Explanation: The original array was [1,2,3,4,5] rotated 3 times.\n"
   ]
  },
  {
   "cell_type": "code",
   "execution_count": 9,
   "metadata": {},
   "outputs": [
    {
     "name": "stdout",
     "output_type": "stream",
     "text": [
      "1\n",
      "0\n"
     ]
    }
   ],
   "source": [
    "def search(nums):\n",
    "        if(len(nums))>0:\n",
    "            return min(nums)\n",
    "        else:\n",
    "            return -1\n",
    "    \n",
    "print(search([3,4,5,1,2]))\n",
    "print(search([4,5,6,7,0,1,2]))"
   ]
  },
  {
   "cell_type": "markdown",
   "metadata": {},
   "source": [
    "#### **Question 8**\n",
    "#### Given two integer arrays `nums1` and `nums2`, return *an array of their intersection*. Each element in the result must appear as many times as it shows in both arrays and you may return the result in **any order**.\n",
    "#### **Example 1:**\n",
    "#### Input: nums1 = [1,2,2,1], nums2 = [2,2]\n",
    "#### Output: [2,2]\n",
    "#### Input: nums1 = [4,9,5], nums2 = [9,4,9,8,4]\n",
    "#### Output: [4,9]\n",
    "#### Explanation: [9,4] is also accepted."
   ]
  },
  {
   "cell_type": "code",
   "execution_count": 2,
   "metadata": {},
   "outputs": [
    {
     "name": "stdout",
     "output_type": "stream",
     "text": [
      "[2, 2]\n",
      "[4, 9]\n"
     ]
    }
   ],
   "source": [
    "def findsameelements(nums1,nums2):\n",
    "    l1 = []\n",
    "    for i in nums1:\n",
    "        if i in nums2:\n",
    "            l1.append(i)\n",
    "    return l1\n",
    "print(findsameelements([1,2,2,1],[2,2]))\n",
    "print(findsameelements([4,9,5],[9,4,9,8,4]))"
   ]
  },
  {
   "cell_type": "code",
   "execution_count": null,
   "metadata": {},
   "outputs": [],
   "source": []
  }
 ],
 "metadata": {
  "kernelspec": {
   "display_name": "Python 3",
   "language": "python",
   "name": "python3"
  },
  "language_info": {
   "codemirror_mode": {
    "name": "ipython",
    "version": 3
   },
   "file_extension": ".py",
   "mimetype": "text/x-python",
   "name": "python",
   "nbconvert_exporter": "python",
   "pygments_lexer": "ipython3",
   "version": "3.6.5"
  }
 },
 "nbformat": 4,
 "nbformat_minor": 2
}
