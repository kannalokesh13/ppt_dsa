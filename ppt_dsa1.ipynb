{
 "cells": [
  {
   "cell_type": "markdown",
   "metadata": {},
   "source": [
    "#### <aside>\n",
    "#### **Q1.** Given an array of integers nums and an integer target, return indices of the two numbers such that they add up to target.\n",
    "\n",
    "#### You may assume that each input would have exactly one solution, and you may not use the same element twice. \n",
    "#### You can return the answer in any order.\n",
    "\n",
    "#### **Example:**\n",
    "#### Input: nums = [2,7,11,15], target = 9\n",
    "#### Output0 [0,1]\n",
    "\n",
    "#### **Explanation:** Because nums[0] + nums[1] == 9, we return [0, 1]"
   ]
  },
  {
   "cell_type": "code",
   "execution_count": 1,
   "metadata": {},
   "outputs": [
    {
     "name": "stdout",
     "output_type": "stream",
     "text": [
      "[0, 1]\n"
     ]
    }
   ],
   "source": [
    "lst = [2,7,11,15]\n",
    "n = 9\n",
    "\n",
    "def tsum(lst,n):\n",
    "    p1 = 0\n",
    "    p2 = len(lst)-1\n",
    "    while p1<p2:\n",
    "        val = lst[p1]+lst[p2] \n",
    "        if val == n:\n",
    "            return [p1,p2]\n",
    "        else:\n",
    "            if val < n:\n",
    "                p1 +=1 \n",
    "            else:\n",
    "                p2 -=1\n",
    "                \n",
    "print(tsum(lst,n))\n",
    "            "
   ]
  },
  {
   "cell_type": "markdown",
   "metadata": {},
   "source": [
    "#### **Q2.** Given an integer array nums and an integer val, remove all occurrences of val in nums in-place. The order of the elements may be changed. Then return the number of elements in nums which are not equal to val.\n",
    "\n",
    "#### Consider the number of elements in nums which are not equal to val be k, to get accepted, you need to do the following things:\n",
    "\n",
    "#### - Change the array nums such that the first k elements of nums contain the elements which are not equal to val. The remaining elements of nums are not important as well as the size of nums. - Return k.\n",
    "\n",
    "#### **Example :**\n",
    "#### Input: nums = [3,2,2,3], val = 3\n",
    "#### Output: 2, nums = [2,2,_*,_*]\n",
    "\n",
    "#### **Explanation:** Your function should return k = 2, with the first two elements of nums being 2. It does not matter what you leave beyond the returned k (hence they are underscores)\n"
   ]
  },
  {
   "cell_type": "code",
   "execution_count": 2,
   "metadata": {},
   "outputs": [
    {
     "name": "stdout",
     "output_type": "stream",
     "text": [
      "2\n"
     ]
    }
   ],
   "source": [
    "nums = [3,2,2,3]\n",
    "val = 3\n",
    "\n",
    "def rduplicates(lst,n):\n",
    "    for i in lst:\n",
    "        lst.remove(n)\n",
    "    lst.sort()\n",
    "    return len(lst)\n",
    "print(rduplicates(nums,val))"
   ]
  },
  {
   "cell_type": "markdown",
   "metadata": {},
   "source": [
    "#### Q3.** Given a sorted array of distinct integers and a target value, return the index if the target is found. If not, return the index where it would be if it were inserted in order.\n",
    "#### You must write an algorithm with O(log n) runtime complexity.\n",
    "#### **Example 1:**\n",
    "#### Input: nums = [1,3,5,6], target = 5\n",
    "#### Output: 2"
   ]
  },
  {
   "cell_type": "code",
   "execution_count": 2,
   "metadata": {},
   "outputs": [
    {
     "name": "stdout",
     "output_type": "stream",
     "text": [
      "4\n"
     ]
    }
   ],
   "source": [
    "nums = [-1,0,3,5,9,12]\n",
    "target = 9\n",
    "\n",
    "def findelement(nums,target):\n",
    "    if target in nums:\n",
    "        return nums.index(target)\n",
    "    else:\n",
    "        return -1\n",
    "    \n",
    "print(findelement(nums,target))\n"
   ]
  },
  {
   "cell_type": "markdown",
   "metadata": {},
   "source": [
    "#### **Q4.** You are given a large integer represented as an integer array digits, where each digits[i] is the ith digit of the integer. The digits are ordered from most significant to least significant in left-to-right order. The large integer does not contain any leading 0's. Increment the large integer by one and return the resulting array of digits.\n",
    "#### **Example 1:**\n",
    "#### Input: digits = [1,2,3]\n",
    "#### Output: [1,2,4]\n",
    "#### **Explanation:** The array represents the integer 123.\n",
    "#### Incrementing by one gives 123 + 1 = 124.\n",
    "#### Thus, the result should be [1,2,4]."
   ]
  },
  {
   "cell_type": "code",
   "execution_count": 9,
   "metadata": {},
   "outputs": [
    {
     "name": "stdout",
     "output_type": "stream",
     "text": [
      "[1, 2, 4]\n"
     ]
    }
   ],
   "source": [
    "digits = [1,2,3]\n",
    "\n",
    "def convert(digits):\n",
    "    s = \" \"\n",
    "    l = []\n",
    "    for i in digits:\n",
    "        s += str(i)\n",
    "    n = int(s)\n",
    "    n = n+1\n",
    "    n = str(n)\n",
    "    for k in n:\n",
    "        l.append(int(k))\n",
    "    return l\n",
    "\n",
    "print(convert(digits))"
   ]
  },
  {
   "cell_type": "markdown",
   "metadata": {},
   "source": [
    "#### **Q5.** You are given two integer arrays nums1 and nums2, sorted in non-decreasing order, and two integers m and n, representing the number of elements in nums1 and nums2 respectively.\n",
    "#### Merge nums1 and nums2 into a single array sorted in non-decreasing order.\n",
    "#### The final sorted array should not be returned by the function, but instead be stored inside the array nums1. To accommodate this, nums1 has a length of m + n, where the first m elements denote the elements that should be merged, and the last n elements are set to 0 and should be ignored. nums2 has a length of n.\n",
    "#### **Example 1:**\n",
    "#### Input: nums1 = [1,2,3,0,0,0], m = 3, nums2 = [2,5,6], n = 3\n",
    "#### Output: [1,2,2,3,5,6]\n",
    "#### **Explanation:** The arrays we are merging are [1,2,3] and [2,5,6].\n",
    "#### The result of the merge is [1,2,2,3,5,6] with the underlined elements coming from nums1."
   ]
  },
  {
   "cell_type": "code",
   "execution_count": 12,
   "metadata": {},
   "outputs": [
    {
     "name": "stdout",
     "output_type": "stream",
     "text": [
      "[1, 2, 3]\n",
      "[1, 2, 2, 1, 2, 3, 0, 0, 0]\n"
     ]
    }
   ],
   "source": [
    "l1 = [1,2,3,0,0,0]\n",
    "m = 3\n",
    "l2 = [2,5,6]\n",
    "n = 3\n",
    "c = l1[:3]\n",
    "print(c)\n",
    "p0 = 0\n",
    "p1 = 0\n",
    "for i in range(len(c)):\n",
    "    if c[p0]<=l2[p1]:\n",
    "        l1.insert(i,c[p0])\n",
    "        p0 = p0+1\n",
    "        \n",
    "    else:\n",
    "        l1.insert(i,l2[p1])\n",
    "        p1 = p1+1\n",
    "        \n",
    "print(l1)\n",
    "        \n",
    "    "
   ]
  },
  {
   "cell_type": "markdown",
   "metadata": {},
   "source": [
    "#### **Q6.** Given an integer array nums, return true if any value appears at least twice in the array, and return false if every element is distinct.\n",
    "#### **Example 1:**\n",
    "#### Input: nums = [1,2,3,1]\n",
    "#### Output: true"
   ]
  },
  {
   "cell_type": "code",
   "execution_count": 15,
   "metadata": {},
   "outputs": [
    {
     "name": "stdout",
     "output_type": "stream",
     "text": [
      "True\n"
     ]
    }
   ],
   "source": [
    "def dups(nums):\n",
    "    s = set(nums)\n",
    "    if len(s) == len(nums):\n",
    "        return False\n",
    "    else:\n",
    "        return True\n",
    "    \n",
    "print(dups([1,2,3,1]))"
   ]
  },
  {
   "cell_type": "markdown",
   "metadata": {},
   "source": [
    "#### **Q7.** Given an integer array nums, move all 0's to the end of it while maintaining the relative order of the nonzero elements.\n",
    "#### Note that you must do this in-place without making a copy of the array.\n",
    "#### **Example 1:**\n",
    "#### Input: nums = [0,1,0,3,12]\n",
    "#### Output: [1,3,12,0,0]"
   ]
  },
  {
   "cell_type": "code",
   "execution_count": 16,
   "metadata": {},
   "outputs": [
    {
     "name": "stdout",
     "output_type": "stream",
     "text": [
      "[1, 3, 12, 0, 0]\n"
     ]
    }
   ],
   "source": [
    "def movez(nums):\n",
    "    k = nums.count(0)\n",
    "    for i in range(k):\n",
    "        nums.remove(0)\n",
    "        \n",
    "    for i in range(k):\n",
    "        nums.append(0)\n",
    "    return nums\n",
    "\n",
    "print(movez([0,1,0,3,12]))"
   ]
  },
  {
   "cell_type": "markdown",
   "metadata": {},
   "source": [
    "#### **Q8.** You have a set of integers s, which originally contains all the numbers from 1 to n. Unfortunately, due to some error, one of the numbers in s got duplicated to another number in the set, which results in repetition of one number and loss of another number. You are given an integer array nums representing the data status of this set after the error.\n",
    "#### Find the number that occurs twice and the number that is missing and return them in the form of an array.\n",
    "#### **Example 1:**\n",
    "#### Input: nums = [1,2,2,4]\n",
    "#### Output: [2,3]"
   ]
  },
  {
   "cell_type": "code",
   "execution_count": 18,
   "metadata": {},
   "outputs": [
    {
     "name": "stdout",
     "output_type": "stream",
     "text": [
      "[2, 3]\n"
     ]
    }
   ],
   "source": [
    "def error(nums):\n",
    "    l = []\n",
    "    dic = {}\n",
    "    s = list(set(nums))\n",
    "    for i in s:\n",
    "        dic[i]=nums.count(i)\n",
    "        \n",
    "    for k,v in dic.items():\n",
    "        if v>1:\n",
    "            return [k,k+1]\n",
    "    \n",
    "print(error([1,2,2,4]))"
   ]
  },
  {
   "cell_type": "code",
   "execution_count": null,
   "metadata": {},
   "outputs": [],
   "source": []
  }
 ],
 "metadata": {
  "kernelspec": {
   "display_name": "Python 3",
   "language": "python",
   "name": "python3"
  },
  "language_info": {
   "codemirror_mode": {
    "name": "ipython",
    "version": 3
   },
   "file_extension": ".py",
   "mimetype": "text/x-python",
   "name": "python",
   "nbconvert_exporter": "python",
   "pygments_lexer": "ipython3",
   "version": "3.6.5"
  }
 },
 "nbformat": 4,
 "nbformat_minor": 2
}
