{
 "cells": [
  {
   "cell_type": "markdown",
   "id": "76af9d5f",
   "metadata": {},
   "source": [
    "#### 1. **Merge Intervals**\n",
    "\n",
    "Given an array of `intervals` where `intervals[i] = [starti, endi]`, merge all overlapping intervals, and return *an array of the non-overlapping intervals that cover all the intervals in the input*.\n",
    "\n",
    "#### **Example 1:**\n",
    "Input: intervals = [[1,3],[2,6],[8,10],[15,18]]\n",
    "Output: [[1,6],[8,10],[15,18]]\n",
    "Explanation: Since intervals [1,3] and [2,6] overlap, merge them into [1,6].\n"
   ]
  },
  {
   "cell_type": "code",
   "execution_count": 14,
   "id": "c454ece1",
   "metadata": {},
   "outputs": [
    {
     "name": "stdout",
     "output_type": "stream",
     "text": [
      "[[1, 6], [8, 10], [15, 18]]\n",
      "[[1, 5]]\n",
      "[[1, 4]]\n"
     ]
    }
   ],
   "source": [
    "def mergeintervals(lst):\n",
    "    if len(lst)==2:\n",
    "        for i in range(len(lst)-1):\n",
    "            if lst[i][1]>=lst[i+1][0]:\n",
    "                lst[i][1]=lst[i+1][1]\n",
    "#             print(lst[i])\n",
    "                lst.pop(i+1)\n",
    "        \n",
    "    else:\n",
    "        for i in range(len(lst)-2):\n",
    "            if lst[i][1]>=lst[i+1][0]:\n",
    "                lst[i][1]=lst[i+1][1]\n",
    "#             print(lst[i])\n",
    "                lst.pop(i+1)\n",
    "            \n",
    "    return lst\n",
    "\n",
    "print(mergeintervals([[1,3],[2,6],[8,10],[15,18]]))\n",
    "print(mergeintervals([[1,4],[4,5]]))\n",
    "print(mergeintervals([[1,4]]))"
   ]
  },
  {
   "cell_type": "markdown",
   "id": "e687f400",
   "metadata": {},
   "source": [
    "#### 2. **Sort Colors**\n",
    "\n",
    "Given an array `nums` with `n` objects colored red, white, or blue, sort them **[in-place](https://en.wikipedia.org/wiki/In-place_algorithm)** so that objects of the same color are adjacent, with the colors in the order red, white, and blue.\n",
    "\n",
    "We will use the integers `0`, `1`, and `2` to represent the color red, white, and blue, respectively.\n",
    "\n",
    "You must solve this problem without using the library's sort function.\n",
    "\n",
    "#### **Example 1:**\n",
    "Input: nums = [2,0,2,1,1,0]\n",
    "Output: [0,0,1,1,2,2]\n"
   ]
  },
  {
   "cell_type": "code",
   "execution_count": 16,
   "id": "59d34a8c",
   "metadata": {},
   "outputs": [
    {
     "name": "stdout",
     "output_type": "stream",
     "text": [
      "[0, 2, 1, 1, 0, 2]\n"
     ]
    }
   ],
   "source": [
    "def sortcolors(lst):\n",
    "    for i in range(len(lst)-1):\n",
    "        if(lst[i]>lst[i+1]):\n",
    "            temp = lst[i]\n",
    "            lst[i] = lst[i+1]\n",
    "            lst[i+1] = temp\n",
    "            \n",
    "    return lst\n",
    "\n",
    "print(sortcolors([2,0,2,1,1,0]))"
   ]
  },
  {
   "cell_type": "markdown",
   "id": "96ec64a5",
   "metadata": {},
   "source": [
    "#### 3. **First Bad Version Solution**\n",
    "\n",
    "You are a product manager and currently leading a team to develop a new product. Unfortunately, the latest version of your product fails the quality check. Since each version is developed based on the previous version, all the versions after a bad version are also bad.\n",
    "\n",
    "Suppose you have `n` versions `[1, 2, ..., n]` and you want to find out the first bad one, which causes all the following ones to be bad.\n",
    "\n",
    "You are given an API `bool isBadVersion(version)` which returns whether `version` is bad. Implement a function to find the first bad version. You should minimize the number of calls to the API.\n",
    "\n",
    "#### **Example 1:**\n",
    "Input: n = 5, bad = 4\n",
    "Output: 4\n",
    "Explanation:\n",
    "call isBadVersion(3) -> false\n",
    "call isBadVersion(5) -> true\n",
    "call isBadVersion(4) -> true\n",
    "Then 4 is the first bad version.\n"
   ]
  },
  {
   "cell_type": "code",
   "execution_count": 19,
   "id": "29decfce",
   "metadata": {},
   "outputs": [],
   "source": [
    "def firstbadversion(n,bad):\n",
    "    first=1\n",
    "    end=n\n",
    "    while first<=end:\n",
    "        mid = (first+end)//2\n",
    "        if isBadversion(mid):\n",
    "            end=mid-1\n",
    "        else:\n",
    "            first=mid+1\n",
    "        if (isBadversion(mid)) and not(isBadversion(mid-1)):\n",
    "            return mid\n",
    "        "
   ]
  },
  {
   "cell_type": "markdown",
   "id": "1f24a3fa",
   "metadata": {},
   "source": [
    "#### 4. **Maximum Gap**\n",
    "\n",
    "Given an integer array `nums`, return *the maximum difference between two successive elements in its sorted form*. If the array contains less than two elements, return `0`.\n",
    "\n",
    "You must write an algorithm that runs in linear time and uses linear extra space.\n",
    "\n",
    "#### **Example 1:**\n",
    "Input: nums = [3,6,9,1]\n",
    "Output: 3\n",
    "Explanation: The sorted form of the array is [1,3,6,9], either (3,6) or (6,9) has the maximum difference 3.\n"
   ]
  },
  {
   "cell_type": "code",
   "execution_count": 29,
   "id": "dfd0105b",
   "metadata": {},
   "outputs": [
    {
     "name": "stdout",
     "output_type": "stream",
     "text": [
      "3\n",
      "0\n"
     ]
    }
   ],
   "source": [
    "def maxgap(nums):\n",
    "    l=[]\n",
    "    nums.sort()\n",
    "    for i in range(len(nums)-1):\n",
    "        l.append(abs(nums[i]-nums[i+1]))\n",
    "        \n",
    "    if len(l)>0:    \n",
    "        return max(l)\n",
    "    else:\n",
    "        return 0\n",
    "\n",
    "print(maxgap([3,6,9,1]))\n",
    "print(maxgap([10]))"
   ]
  },
  {
   "cell_type": "markdown",
   "id": "0d039f8b",
   "metadata": {},
   "source": [
    "#### 5. **Contains Duplicate**\n",
    "Given an integer array `nums`, return `true` if any value appears **at least twice** in the array, and return `false` if every element is distinct.\n",
    "\n",
    "#### **Example 1:**\n",
    "Input: nums = [1,2,3,1]\n",
    "Output: true\n"
   ]
  },
  {
   "cell_type": "code",
   "execution_count": 2,
   "id": "c018c1b6",
   "metadata": {},
   "outputs": [
    {
     "name": "stdout",
     "output_type": "stream",
     "text": [
      "True\n",
      "False\n",
      "True\n"
     ]
    }
   ],
   "source": [
    "def duplicates(nums):\n",
    "    for i in nums:\n",
    "        if nums.count(i)>1:\n",
    "            return True\n",
    "    return False\n",
    "\n",
    "print(duplicates([1,2,3,1]))\n",
    "print(duplicates([1,2,3,4]))\n",
    "print(duplicates([1,1,1,3,3,4,3,2,4,2]))"
   ]
  },
  {
   "cell_type": "markdown",
   "id": "6bdd40d0",
   "metadata": {},
   "source": [
    "#### 6. **Minimum Number of Arrows to Burst Balloons**\n",
    "\n",
    "There are some spherical balloons taped onto a flat wall that represents the XY-plane. The balloons are represented as a 2D integer array `points` where `points[i] = [xstart, xend]` denotes a balloon whose **horizontal diameter** stretches between `xstart` and `xend`. You do not know the exact y-coordinates of the balloons.\n",
    "\n",
    "Arrows can be shot up **directly vertically** (in the positive y-direction) from different points along the x-axis. A balloon with `xstart` and `xend` is **burst** by an arrow shot at `x` if `xstart <= x <= xend`. There is **no limit** to the number of arrows that can be shot. A shot arrow keeps traveling up infinitely, bursting any balloons in its path.\n",
    "\n",
    "Given the array `points`, return *the **minimum** number of arrows that must be shot to burst all balloons*.\n",
    "\n",
    "#### **Example 1:**\n",
    "Input: points = [[10,16],[2,8],[1,6],[7,12]]\n",
    "Output: 2\n",
    "Explanation: The balloons can be burst by 2 arrows:\n",
    "- Shoot an arrow at x = 6, bursting the balloons [2,8] and [1,6].\n",
    "- Shoot an arrow at x = 11, bursting the balloons [10,16] and [7,12].\n"
   ]
  },
  {
   "cell_type": "code",
   "execution_count": 9,
   "id": "7001683e",
   "metadata": {},
   "outputs": [
    {
     "name": "stdout",
     "output_type": "stream",
     "text": [
      "2\n",
      "2\n"
     ]
    }
   ],
   "source": [
    "def findMinArrowShots(points):\n",
    "        arrows=1\n",
    "        points.sort(key=lambda inner:inner[1])\n",
    "        if len(points)==1:\n",
    "            return 1\n",
    "        elif len(points)==0:\n",
    "            return 0\n",
    "        else:\n",
    "            prev=points[0][1]\n",
    "            for i in range(1,len(points)):\n",
    "                if(points[i][0]<=prev):\n",
    "                    continue\n",
    "                arrows+=1\n",
    "                prev=points[i][1]\n",
    "        \n",
    "        return arrows\n",
    "    \n",
    "print(findMinArrowShots([[10,16],[2,8],[1,6],[7,12]]))\n",
    "print(findMinArrowShots([[1,2],[2,3],[3,4],[4,5]]))"
   ]
  },
  {
   "cell_type": "markdown",
   "id": "3d6c5237",
   "metadata": {},
   "source": [
    "#### 8. **132 Pattern**\n",
    "\n",
    "Given an array of `n` integers `nums`, a **132 pattern** is a subsequence of three integers `nums[i]`, `nums[j]` and `nums[k]` such that `i < j < k` and `nums[i] < nums[k] < nums[j]`.\n",
    "\n",
    "Return `true` *if there is a **132 pattern** in* `nums`*, otherwise, return* `false`*.*\n",
    "\n",
    "#### **Example 1:**\n",
    "Input: nums = [1,2,3,4]\n",
    "Output: false\n",
    "Explanation: There is no 132 pattern in the sequence.\n"
   ]
  },
  {
   "cell_type": "code",
   "execution_count": 32,
   "id": "e9469bd5",
   "metadata": {},
   "outputs": [
    {
     "name": "stdout",
     "output_type": "stream",
     "text": [
      "1 2 3\n",
      "2 3 4\n",
      "False\n",
      "3 1 4\n",
      "1 4 2\n",
      "True\n",
      "3 5 0\n",
      "5 0 3\n",
      "0 3 2\n",
      "True\n"
     ]
    }
   ],
   "source": [
    "def pattern132(nums):\n",
    "    if len(nums)==0 or len(nums)==1 or len(nums)==2:\n",
    "        return False\n",
    "    for i in range(len(nums)-2):\n",
    "        k1,k2,k3=nums[i],nums[i+1],nums[i+2]\n",
    "        print(k1,k2,k3)\n",
    "        if(k1<k3 and k3<k2):\n",
    "            return True\n",
    "    return False\n",
    "\n",
    "print(pattern132([1,2,3,4]))\n",
    "print(pattern132([3,1,4,2]))\n",
    "print(pattern132([3,5,0,3,2]))"
   ]
  },
  {
   "cell_type": "code",
   "execution_count": null,
   "id": "527f0e9f",
   "metadata": {},
   "outputs": [],
   "source": []
  }
 ],
 "metadata": {
  "kernelspec": {
   "display_name": "Python 3 (ipykernel)",
   "language": "python",
   "name": "python3"
  },
  "language_info": {
   "codemirror_mode": {
    "name": "ipython",
    "version": 3
   },
   "file_extension": ".py",
   "mimetype": "text/x-python",
   "name": "python",
   "nbconvert_exporter": "python",
   "pygments_lexer": "ipython3",
   "version": "3.9.7"
  }
 },
 "nbformat": 4,
 "nbformat_minor": 5
}
