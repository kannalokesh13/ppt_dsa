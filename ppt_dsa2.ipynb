{
 "cells": [
  {
   "cell_type": "markdown",
   "metadata": {},
   "source": [
    "#### Question 1\n",
    "#### Given an integer array nums of 2n integers, group these integers into n pairs (a1, b1), (a2, b2), ..., (an, bn) such that the sum of min(ai, bi) for all i is maximized. Return the maximized sum.\n",
    "#### Example 1:\n",
    "#### Input: nums = [1,4,3,2]\n",
    "#### Output: 4\n",
    "#### Explanation: All possible pairings (ignoring the ordering of elements) are:\n",
    "#### 1. (1, 4), (2, 3) -> min(1, 4) + min(2, 3) = 1 + 2 = 3\n",
    "#### 2. (1, 3), (2, 4) -> min(1, 3) + min(2, 4) = 1 + 2 = 3\n",
    "#### 3. (1, 2), (3, 4) -> min(1, 2) + min(3, 4) = 1 + 3 = 4\n",
    "#### So the maximum possible sum is 4"
   ]
  },
  {
   "cell_type": "code",
   "execution_count": 2,
   "metadata": {},
   "outputs": [
    {
     "name": "stdout",
     "output_type": "stream",
     "text": [
      "4\n"
     ]
    }
   ],
   "source": [
    "lst = [1,4,3,2]\n",
    "def summax(lst):\n",
    "    sum = 0\n",
    "    i = 0\n",
    "    s = sorted(lst)\n",
    "    while i<len(s):\n",
    "        sum+=s[i]\n",
    "        i+=2\n",
    "    return sum\n",
    "print(summax(lst))\n",
    "#sum(sorted(nums)[::2])"
   ]
  },
  {
   "cell_type": "markdown",
   "metadata": {},
   "source": [
    "#### Question 2\n",
    "#### Alice has n candies, where the ith candy is of type candyType[i]. Alice noticed that she started to gain weight, so she visited a doctor.\n",
    "#### The doctor advised Alice to only eat n / 2 of the candies she has (n is always even). Alice likes her candies very much, and she wants to eat the maximum number of different types of candies while still following the doctor's advice.\n",
    "#### Given the integer array candyType of length n, return the maximum number of different types of candies she can eat if she only eats n / 2 of them.\n",
    "#### Example 1:\n",
    "#### Input: candyType = [1,1,2,2,3,3]\n",
    "#### Output: 3\n",
    "#### Explanation: Alice can only eat 6 / 2 = 3 candies. Since there are only 3 types, she can eat one of each type."
   ]
  },
  {
   "cell_type": "code",
   "execution_count": 7,
   "metadata": {},
   "outputs": [
    {
     "name": "stdout",
     "output_type": "stream",
     "text": [
      "3\n"
     ]
    }
   ],
   "source": [
    "lst = [1,1,2,2,3,3]\n",
    "\n",
    "def uniquecandies(lst):\n",
    "    s = len(list(set(lst)))\n",
    "    m = len(lst)//2\n",
    "    return min(s,m)\n",
    "\n",
    "print(uniquecandies(lst))"
   ]
  },
  {
   "cell_type": "markdown",
   "metadata": {},
   "source": [
    "#### We define a harmonious array as an array where the difference between its maximum value and its minimum value is exactly 1.\n",
    "#### Given an integer array nums, return the length of its longest harmonious subsequence among all its possible subsequences.\n",
    "#### A subsequence of an array is a sequence that can be derived from the array by deleting some or no elements without changing the order of the remaining elements.\n",
    "#### Example 1:\n",
    "#### Input: nums = [1,3,2,2,5,2,3,7]\n",
    "#### Output: 5\n",
    "#### Explanation: The longest harmonious subsequence is [3,2,2,2,3]."
   ]
  },
  {
   "cell_type": "code",
   "execution_count": 8,
   "metadata": {},
   "outputs": [
    {
     "name": "stdout",
     "output_type": "stream",
     "text": [
      "[3, 2, 3, 2, 3, 2, 2, 1, 2, 1, 2, 1, 3, 2, 3, 2, 3, 2]\n"
     ]
    }
   ],
   "source": [
    "nums = [1,3,2,2,5,2,3,7]\n",
    "\n",
    "def subsequence(lst):\n",
    "    l = []\n",
    "    for i in range(len(lst)):\n",
    "        for j in range(len(lst)):\n",
    "            if lst[i]-lst[j]==1:\n",
    "                l.append(lst[i])\n",
    "                l.append(lst[j])\n",
    "            else:\n",
    "                lst.remove(lst[i])\n",
    "            \n",
    "    return l\n",
    "print(subsequence(nums))\n",
    "            "
   ]
  },
  {
   "cell_type": "markdown",
   "metadata": {},
   "source": [
    "#### You have a long flowerbed in which some of the plots are planted, and some are not.\n",
    "#### However, flowers cannot be planted in adjacent plots.\n",
    "#### Given an integer array flowerbed containing 0's and 1's, where 0 means empty and 1 means not empty, and an integer n, return true if n new flowers can be planted in the flowerbed without violating the no-adjacent-flowers rule and false otherwise.\n",
    "#### Example 1:\n",
    "#### Input: flowerbed = [1,0,0,0,1], n = 1\n",
    "#### Output: true"
   ]
  },
  {
   "cell_type": "code",
   "execution_count": 27,
   "metadata": {},
   "outputs": [
    {
     "name": "stdout",
     "output_type": "stream",
     "text": [
      "False\n"
     ]
    }
   ],
   "source": [
    "\n",
    "\n",
    "def flowerbed(lst,n):\n",
    "    c = 0\n",
    "    for j in range(n):\n",
    "        for i in range(len(lst)):\n",
    "            if lst[i]==0:\n",
    "                if lst[i-1]==0 and lst[i+1]==0:\n",
    "                    lst[i]=1\n",
    "                    c+=1\n",
    "    if c==n:\n",
    "        return True\n",
    "    else:\n",
    "        return False\n",
    "    \n",
    "print(flowerbed([1,0,0,0,1],2))\n",
    "        \n",
    "            "
   ]
  },
  {
   "cell_type": "markdown",
   "metadata": {},
   "source": [
    "#### Question 5\n",
    "#### Given an integer array nums, find three numbers whose product is maximum and return the maximum product.\n",
    "#### Example 1:\n",
    "#### Input: nums = [1,2,3]\n",
    "#### Output: 6"
   ]
  },
  {
   "cell_type": "code",
   "execution_count": 1,
   "metadata": {},
   "outputs": [
    {
     "name": "stdout",
     "output_type": "stream",
     "text": [
      "6\n"
     ]
    }
   ],
   "source": [
    "nums = [1,2,3]\n",
    "\n",
    "def maxprod(lst):\n",
    "    lst.sort()\n",
    "    k1 = lst[-1]\n",
    "    k2 = lst[-2]\n",
    "    k3 = lst[-3]\n",
    "    \n",
    "    return k1*k2*k3\n",
    "\n",
    "print(maxprod(nums))"
   ]
  },
  {
   "cell_type": "markdown",
   "metadata": {},
   "source": [
    "#### Question 6\n",
    "#### Given an array of integers nums which is sorted in ascending order, and an integer target, write a function to search target in nums. If target exists, then return its index. Otherwise, return -1.\n",
    "#### You must write an algorithm with O(log n) runtime complexity.\n",
    "#### Input: nums = [-1,0,3,5,9,12], target = 9\n",
    "#### Output: 4\n",
    "#### Explanation: 9 exists in nums and its index is 4"
   ]
  },
  {
   "cell_type": "code",
   "execution_count": 6,
   "metadata": {},
   "outputs": [
    {
     "name": "stdout",
     "output_type": "stream",
     "text": [
      "4\n"
     ]
    }
   ],
   "source": [
    "nums = [-1,0,3,5,9,12]\n",
    "target = 9\n",
    "\n",
    "def findelement(nums,target):\n",
    "    if target in nums:\n",
    "        return nums.index(target)\n",
    "    else:\n",
    "        return -1\n",
    "    \n",
    "print(findelement(nums,target))"
   ]
  },
  {
   "cell_type": "markdown",
   "metadata": {},
   "source": [
    "#### Question 7\n",
    "#### An array is monotonic if it is either monotone increasing or monotone decreasing. An array nums is monotone increasing if for all i <= j, nums[i] <= nums[j]. An array nums is monotone decreasing if for all i <= j, nums[i] >= nums[j].\n",
    "#### Given an integer array nums, return true if the given array is monotonic, or false otherwise.\n",
    "#### Example 1:\n",
    "#### Input: nums = [1,2,2,3]\n",
    "#### Output: true"
   ]
  },
  {
   "cell_type": "code",
   "execution_count": 15,
   "metadata": {},
   "outputs": [
    {
     "name": "stdout",
     "output_type": "stream",
     "text": [
      "True\n"
     ]
    }
   ],
   "source": [
    "nums = [1,2,2,3]\n",
    "\n",
    "def monotonic(nums):\n",
    "    c1 = 0\n",
    "    c2 = 0\n",
    "#     print(len(nums)-1)\n",
    "    for i in range(len(nums)-1):\n",
    "        if nums[i]<=nums[i+1]:\n",
    "            c1+=1\n",
    "    for j in range(len(nums)-1):\n",
    "        if nums[j]>=nums[j+1]:\n",
    "            c2+=1\n",
    "            \n",
    "#     print(c1)\n",
    "#     print(c2)\n",
    "    if (c1==len(nums)-1 and c2<len(nums)-1) or (c2==len(nums)-1 and c1<len(nums)-1):\n",
    "        return True\n",
    "    else:\n",
    "        return False\n",
    "    \n",
    "print(monotonic(nums))"
   ]
  },
  {
   "cell_type": "markdown",
   "metadata": {},
   "source": [
    "#### Question 8\n",
    "#### You are given an integer array nums and an integer k. In one operation, you can choose any index i where 0 <= i < nums.length and change nums[i] to nums[i] + x where x is an integer from the range [-k, k]. You can apply this operation at most once for each index i. #### The score of nums is the difference between the maximum and minimum elements in nums.\n",
    "#### Return the minimum score of nums after applying the mentioned operation at most once for each index in it.\n",
    "#### Example 1:\n",
    "#### Input: nums = [1], k = 0\n",
    "#### Output: 0\n",
    "#### Explanation: The score is max(nums) - min(nums) = 1 - 1 = 0."
   ]
  },
  {
   "cell_type": "code",
   "execution_count": 23,
   "metadata": {},
   "outputs": [
    {
     "name": "stdout",
     "output_type": "stream",
     "text": [
      "0\n"
     ]
    }
   ],
   "source": [
    "import math\n",
    "nums = [1] \n",
    "k = 0\n",
    "\n",
    "def smallest(nums,k):\n",
    "    m = math.ceil(sum(nums)//len(nums))\n",
    "    \n",
    "    mi = min(nums)\n",
    "    \n",
    "    ma = max(nums)\n",
    "    \n",
    "    mi = mi+k\n",
    "    ma = ma-k\n",
    "    \n",
    "    if(mi>m):\n",
    "        return 0\n",
    "    else:\n",
    "        return ma-mi\n",
    "    \n",
    "    \n",
    "print(smallest(nums,k))\n",
    "    "
   ]
  },
  {
   "cell_type": "code",
   "execution_count": null,
   "metadata": {},
   "outputs": [],
   "source": []
  }
 ],
 "metadata": {
  "kernelspec": {
   "display_name": "Python 3",
   "language": "python",
   "name": "python3"
  },
  "language_info": {
   "codemirror_mode": {
    "name": "ipython",
    "version": 3
   },
   "file_extension": ".py",
   "mimetype": "text/x-python",
   "name": "python",
   "nbconvert_exporter": "python",
   "pygments_lexer": "ipython3",
   "version": "3.6.5"
  }
 },
 "nbformat": 4,
 "nbformat_minor": 2
}
