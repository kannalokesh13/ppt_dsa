{
 "cells": [
  {
   "cell_type": "markdown",
   "metadata": {},
   "source": [
    "#### **Question 1**\n",
    "#### Given three integer arrays arr1, arr2 and arr3 **sorted** in **strictly increasing** order, return a sorted array of **only** the integers that appeared in **all** three arrays.\n",
    "#### **Example 1:**\n",
    "#### Input: arr1 = [1,2,3,4,5], arr2 = [1,2,5,7,9], arr3 = [1,3,4,5,8]\n",
    "#### Output: [1,5]\n",
    "#### **Explanation:** Only 1 and 5 appeared in the three arrays.\n"
   ]
  },
  {
   "cell_type": "code",
   "execution_count": 4,
   "metadata": {},
   "outputs": [
    {
     "name": "stdout",
     "output_type": "stream",
     "text": [
      "[1, 5]\n"
     ]
    }
   ],
   "source": [
    "def allp(arr1,arr2,arr3):\n",
    "    arr1 = set(arr1)\n",
    "    arr2 = set(arr2)\n",
    "    arr3 = set(arr3)\n",
    "    inter = arr1.intersection(arr2)\n",
    "    final = list(inter.intersection(arr3))\n",
    "    return final\n",
    "print(allp( [1,2,3,4,5], [1,2,5,7,9],[1,3,4,5,8]))"
   ]
  },
  {
   "cell_type": "markdown",
   "metadata": {},
   "source": [
    "#### **Question 2**\n",
    "#### Given two **0-indexed** integer arrays nums1 and nums2, return *a list* answer *of size* 2 *where:*\n",
    "####  answer[0] *is a list of all **distinct** integers in* nums1 *which are **not** present in* nums2*.*\n",
    "####  answer[1] *is a list of all **distinct** integers in* nums2 *which are **not** present in* nums1.\n",
    "#### **Note** that the integers in the lists may be returned in **any** order.\n",
    "#### **Example 1:**\n",
    "#### **Input:** nums1 = [1,2,3], nums2 = [2,4,6]\n",
    "#### **Output:** [[1,3],[4,6]]\n",
    "#### **Explanation:**\n",
    "#### For nums1, nums1[1] = 2 is present at index 0 of nums2, whereas nums1[0] = 1 and nums1[2] = 3 are not present in nums2. Therefore, answer[0] = [1,3].\n",
    "#### For nums2, nums2[0] = 2 is present at index 1 of nums1, whereas nums2[1] = 4 and nums2[2] = 6 are not present in nums2. Therefore, answer[1] = [4,6].\n"
   ]
  },
  {
   "cell_type": "code",
   "execution_count": 5,
   "metadata": {},
   "outputs": [
    {
     "name": "stdout",
     "output_type": "stream",
     "text": [
      "[[1, 3], [4, 6]]\n"
     ]
    }
   ],
   "source": [
    "def allu(arr1,arr2):\n",
    "    arr1 = set(arr1)\n",
    "    arr2 = set(arr2)\n",
    "    \n",
    "    l1 = list(arr1.difference(arr2))\n",
    "    l2 = list(arr2.difference(arr1))\n",
    "    \n",
    "    l = []\n",
    "    \n",
    "    l.append(l1)\n",
    "    l.append(l2)\n",
    "    \n",
    "    return l\n",
    "print(allu( [1,2,3],[2,4,6]))"
   ]
  },
  {
   "cell_type": "markdown",
   "metadata": {},
   "source": [
    "####  **Question 3**\n",
    "#### Given a 2D integer array matrix, return *the **transpose** of* matrix.\n",
    "#### The **transpose** of a matrix is the matrix flipped over its main diagonal, switching the matrix's row and column indices.\n",
    "#### **Example 1:**\n",
    "#### Input: matrix = [[1,2,3],[4,5,6],[7,8,9]]\n",
    "#### Output: [[1,4,7],[2,5,8],[3,6,9]]\n"
   ]
  },
  {
   "cell_type": "code",
   "execution_count": 15,
   "metadata": {},
   "outputs": [
    {
     "name": "stdout",
     "output_type": "stream",
     "text": [
      "[[1, 4, 7], [2, 5, 8], [3, 6, 9]]\n"
     ]
    }
   ],
   "source": [
    "def transposing(arr):\n",
    "    l1 = []\n",
    "    for i in range(len(arr)):\n",
    "        new=[]\n",
    "        for j in arr:\n",
    "            new.append(j[i])\n",
    "        l1.append(new)\n",
    "    return l1\n",
    "\n",
    "print(transposing([[1,2,3],[4,5,6],[7,8,9]]))"
   ]
  },
  {
   "cell_type": "markdown",
   "metadata": {},
   "source": [
    "#### **Question 4**\n",
    "#### Given an integer array nums of 2n integers, group these integers into n pairs (a1, b1), (a2, b2), ..., (an, bn) such that the sum of min(ai, bi) for all i is **maximized**. Return *the maximized sum*.\n",
    "#### **Example 1:**\n",
    "#### Input: nums = [1,4,3,2]\n",
    "#### Output: 4\n",
    "#### **Explanation:** All possible pairings (ignoring the ordering of elements) are:\n",
    "#### 1. (1, 4), (2, 3) -> min(1, 4) + min(2, 3) = 1 + 2 = 3\n",
    "#### 2. (1, 3), (2, 4) -> min(1, 3) + min(2, 4) = 1 + 2 = 3\n",
    "#### 3. (1, 2), (3, 4) -> min(1, 2) + min(3, 4) = 1 + 3 = 4\n",
    "#### So the maximum possible sum is 4.\n"
   ]
  },
  {
   "cell_type": "code",
   "execution_count": 25,
   "metadata": {},
   "outputs": [
    {
     "name": "stdout",
     "output_type": "stream",
     "text": [
      "4\n"
     ]
    }
   ],
   "source": [
    "def maxpossible(arr1):\n",
    "    l = []\n",
    "    arr1.sort()\n",
    "    a = arr1[::2]\n",
    "#     print(a)\n",
    "    for i in range(len(a)-1):\n",
    "        l.append((a[i]+a[i+1]))\n",
    "        \n",
    "    return max(l)\n",
    "\n",
    "print(maxpossible([1,4,3,2]))"
   ]
  },
  {
   "cell_type": "markdown",
   "metadata": {},
   "source": [
    "####  **Question 5**\n",
    "#### You have n coins and you want to build a staircase with these coins. The staircase consists of k rows where the ith row has exactly i coins. The last row of the staircase **may be** incomplete.\n",
    "#### Given the integer n, return *the number of **complete rows** of the staircase you will build*.\n",
    "#### **Example 1:**\n",
    "#### **Input:** n = 5\n",
    "#### *Output:** 2\n",
    "#### **Explanation:** Because the 3rd row is incomplete, we return 2."
   ]
  },
  {
   "cell_type": "code",
   "execution_count": 26,
   "metadata": {},
   "outputs": [
    {
     "name": "stdout",
     "output_type": "stream",
     "text": [
      "2\n"
     ]
    }
   ],
   "source": [
    "def arrangecoins(n):\n",
    "    l = 0\n",
    "    r = n\n",
    "    res = 0\n",
    "    while l<=r:\n",
    "        mid = (l+r)//2\n",
    "        coins = (mid/2) * (mid+1)\n",
    "        if coins>n:\n",
    "            r = mid-1\n",
    "        else:\n",
    "            l = mid+1\n",
    "            res = max(mid,res)\n",
    "            \n",
    "    return res\n",
    "print(arrangecoins(5))"
   ]
  },
  {
   "cell_type": "markdown",
   "metadata": {},
   "source": [
    "####  Given an integer array nums sorted in **non-decreasing** order, return *an array of **the squares of each number** sorted in non-decreasing order*.\n",
    "#### **Example 1:**\n",
    "#### Input: nums = [-4,-1,0,3,10]\n",
    "#### Output: [0,1,9,16,100]\n",
    "#### **Explanation:** After squaring, the array becomes [16,1,0,9,100].\n",
    "#### After sorting, it becomes [0,1,9,16,100]\n"
   ]
  },
  {
   "cell_type": "code",
   "execution_count": 36,
   "metadata": {},
   "outputs": [
    {
     "name": "stdout",
     "output_type": "stream",
     "text": [
      "[0, 1, 9, 16, 100]\n"
     ]
    }
   ],
   "source": [
    "def sqr(arr):\n",
    "    l = []\n",
    "    for i in range(len(arr)):\n",
    "        l.append(arr[i]**2)\n",
    "    l.sort()\n",
    "    return l\n",
    "\n",
    "print(sqr([-4,-1,0,3,10]))"
   ]
  },
  {
   "cell_type": "markdown",
   "metadata": {},
   "source": [
    "####  **Question 8**\n",
    "#### Given the array nums consisting of 2n elements in the form [x1,x2,...,xn,y1,y2,...,yn].\n",
    "#### *Return the array in the form* [x1,y1,x2,y2,...,xn,yn].\n",
    "#### **Example 1:**\n",
    "#### **Input:** nums = [2,5,1,3,4,7], n = 3\n",
    "#### **Output:** [2,3,5,4,1,7]\n",
    "#### **Explanation:** Since x1=2, x2=5, x3=1, y1=3, y2=4, y3=7 then the answer is [2,3,5,4,1,7].\n"
   ]
  },
  {
   "cell_type": "code",
   "execution_count": 37,
   "metadata": {},
   "outputs": [
    {
     "name": "stdout",
     "output_type": "stream",
     "text": [
      "[2, 3, 5, 4, 1, 7]\n"
     ]
    }
   ],
   "source": [
    "def splitcombine(nums,n):\n",
    "    l = []\n",
    "    for i in range(n):\n",
    "        l.append(nums[i])\n",
    "        l.append(nums[n+i])\n",
    "    return l\n",
    "print(splitcombine([2,5,1,3,4,7],3))"
   ]
  },
  {
   "cell_type": "code",
   "execution_count": null,
   "metadata": {},
   "outputs": [],
   "source": []
  }
 ],
 "metadata": {
  "kernelspec": {
   "display_name": "Python 3",
   "language": "python",
   "name": "python3"
  },
  "language_info": {
   "codemirror_mode": {
    "name": "ipython",
    "version": 3
   },
   "file_extension": ".py",
   "mimetype": "text/x-python",
   "name": "python",
   "nbconvert_exporter": "python",
   "pygments_lexer": "ipython3",
   "version": "3.6.5"
  }
 },
 "nbformat": 4,
 "nbformat_minor": 2
}
