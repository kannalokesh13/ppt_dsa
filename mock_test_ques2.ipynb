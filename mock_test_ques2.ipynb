{
 "cells": [
  {
   "cell_type": "code",
   "execution_count": 1,
   "metadata": {},
   "outputs": [
    {
     "name": "stdout",
     "output_type": "stream",
     "text": [
      "l\n",
      "-1\n"
     ]
    }
   ],
   "source": [
    "def unique(s):\n",
    "    lst = [*s]\n",
    "    dic = {}\n",
    "    for i in range(len(lst)):\n",
    "        dic[lst[i]]=lst.count(lst[i])\n",
    "        \n",
    "#     print(dic)\n",
    "    for k,v in dic.items():\n",
    "        if v==1:\n",
    "            return k\n",
    "    return -1\n",
    "\n",
    "print(unique(\"leetcode\"))\n",
    "print(unique(\"aabb\"))"
   ]
  },
  {
   "cell_type": "code",
   "execution_count": null,
   "metadata": {},
   "outputs": [],
   "source": []
  }
 ],
 "metadata": {
  "kernelspec": {
   "display_name": "Python 3",
   "language": "python",
   "name": "python3"
  },
  "language_info": {
   "codemirror_mode": {
    "name": "ipython",
    "version": 3
   },
   "file_extension": ".py",
   "mimetype": "text/x-python",
   "name": "python",
   "nbconvert_exporter": "python",
   "pygments_lexer": "ipython3",
   "version": "3.6.5"
  }
 },
 "nbformat": 4,
 "nbformat_minor": 2
}
