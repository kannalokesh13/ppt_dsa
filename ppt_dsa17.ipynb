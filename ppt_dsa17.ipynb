{
 "cells": [
  {
   "cell_type": "markdown",
   "id": "abc980a7",
   "metadata": {},
   "source": [
    "#### **Question 1**\n",
    "#### Given a string `s`, *find the first non-repeating character in it and return its index*. If it does not exist, return `-1`.\n",
    "#### **Example 1:**\n",
    "#### Input: s = \"leetcode\"\n",
    "#### Output: 0\n"
   ]
  },
  {
   "cell_type": "code",
   "execution_count": 3,
   "id": "287f9b30",
   "metadata": {},
   "outputs": [
    {
     "name": "stdout",
     "output_type": "stream",
     "text": [
      "0\n",
      "2\n",
      "-1\n"
     ]
    }
   ],
   "source": [
    "def markfisrtnonrepeating_character(s):\n",
    "    l = [*s]\n",
    "    if len(s)==0:\n",
    "        return 0\n",
    "    else:\n",
    "        for i in l:\n",
    "            if l.count(i)==1:\n",
    "                return l.index(i)\n",
    "            \n",
    "    return -1\n",
    "            \n",
    "print(markfisrtnonrepeating_character(\"leetcode\"))\n",
    "print(markfisrtnonrepeating_character(\"loveleetcode\"))\n",
    "print(markfisrtnonrepeating_character(\"aabb\"))"
   ]
  },
  {
   "cell_type": "markdown",
   "id": "4cae6100",
   "metadata": {},
   "source": [
    "####  **Question 2**\n",
    "\n",
    "Given a **circular integer array** `nums` of length `n`, return *the maximum possible sum of a non-empty **subarray** of* `nums`.\n",
    "\n",
    "A **circular array** means the end of the array connects to the beginning of the array. Formally, the next element of `nums[i]` is `nums[(i + 1) % n]` and the previous element of `nums[i]` is `nums[(i - 1 + n) % n]`.\n",
    "\n",
    "A **subarray** may only include each element of the fixed buffer `nums` at most once. Formally, for a subarray `nums[i], nums[i + 1], ..., nums[j]`, there does not exist `i <= k1`, `k2 <= j` with `k1 % n == k2 % n`.\n",
    "#### Example 1:\n",
    "Input: nums = [1,-2,3,-2]\n",
    "Output: 3\n",
    "Explanation: Subarray [3] has maximum sum 3.\n"
   ]
  },
  {
   "cell_type": "code",
   "execution_count": 12,
   "id": "a83c124c",
   "metadata": {},
   "outputs": [
    {
     "name": "stdout",
     "output_type": "stream",
     "text": [
      "4\n",
      "10\n",
      "0\n"
     ]
    }
   ],
   "source": [
    "def circular_array(arr):\n",
    "    currmax=0\n",
    "    globalmax=arr[0]\n",
    "    currmin=0\n",
    "    globalmin=arr[0]\n",
    "    total=0\n",
    "        \n",
    "    for j in arr:\n",
    "        currmax=max(currmax,currmax+j)\n",
    "        globalmax=max(globalmax,currmax)\n",
    "        total+=j\n",
    "        currmin=min(currmin,currmin+j)\n",
    "        globalmin=min(globalmin,currmin)\n",
    "        \n",
    "    if globalmax>0:\n",
    "        return max(total-globalmin,globalmax)\n",
    "    else:\n",
    "        return globalmax\n",
    "    \n",
    "    \n",
    "print(circular_array([1,-2,3,-2]))\n",
    "print(circular_array([5,-3,5]))\n",
    "print(circular_array([-3,-2,-3]))"
   ]
  },
  {
   "cell_type": "markdown",
   "id": "c3df2697",
   "metadata": {},
   "source": [
    "#### The school cafeteria offers circular and square sandwiches at lunch break, referred to by numbers `0` and `1` respectively. All students stand in a queue. Each student either prefers square or circular sandwiches.\n",
    "\n",
    "The number of sandwiches in the cafeteria is equal to the number of students. The sandwiches are placed in a **stack**. At each step:\n",
    "\n",
    "- If the student at the front of the queue **prefers** the sandwich on the top of the stack, they will **take it** and leave the queue.\n",
    "- Otherwise, they will **leave it** and go to the queue's end.\n",
    "\n",
    "This continues until none of the queue students want to take the top sandwich and are thus unable to eat.\n",
    "\n",
    "You are given two integer arrays `students` and `sandwiches` where `sandwiches[i]` is the type of the `ith` sandwich in the stack (`i = 0` is the top of the stack) and `students[j]` is the preference of the `jth` student in the initial queue (`j = 0` is the front of the queue). Return *the number of students that are unable to eat.*\n",
    "\n",
    "#### Example 1: \n",
    "Input: students = [1,1,0,0], sandwiches = [0,1,0,1]\n",
    "Output: 0\n",
    "Explanation:\n",
    "- Front student leaves the top sandwich and returns to the end of the line making students = [1,0,0,1].\n",
    "- Front student leaves the top sandwich and returns to the end of the line making students = [0,0,1,1].\n",
    "- Front student takes the top sandwich and leaves the line making students = [0,1,1] and sandwiches = [1,0,1].\n",
    "- Front student leaves the top sandwich and returns to the end of the line making students = [1,1,0].\n",
    "- Front student takes the top sandwich and leaves the line making students = [1,0] and sandwiches = [0,1].\n",
    "- Front student leaves the top sandwich and returns to the end of the line making students = [0,1].\n",
    "- Front student takes the top sandwich and leaves the line making students = [1] and sandwiches = [1].\n",
    "- Front student takes the top sandwich and leaves the line making students = [] and sandwiches = [].\n",
    "Hence all students are able to eat.\n"
   ]
  },
  {
   "cell_type": "code",
   "execution_count": 14,
   "id": "ed7e2ae9",
   "metadata": {},
   "outputs": [
    {
     "name": "stdout",
     "output_type": "stream",
     "text": [
      "0\n",
      "3\n"
     ]
    }
   ],
   "source": [
    "def sandwitch(stu,sand):\n",
    "    countsand=0\n",
    "    while(stu and sand):\n",
    "        if stu[0]==sand[0]:\n",
    "            stu.pop(0)\n",
    "            sand.pop(0)\n",
    "            countsand=0\n",
    "            \n",
    "        else:\n",
    "            k=stu.pop(0)\n",
    "            stu.append(k)\n",
    "            countsand+=1\n",
    "            if countsand==len(stu):\n",
    "                break\n",
    "    return len(stu)\n",
    "\n",
    "print(sandwitch([1,1,0,0],[0,1,0,1]))\n",
    "print(sandwitch([1,1,1,0,0,1],[1,0,0,0,1,1]))"
   ]
  },
  {
   "cell_type": "markdown",
   "id": "9a2a64eb",
   "metadata": {},
   "source": [
    "#### **Question 4**\n",
    "\n",
    "You have a `RecentCounter` class which counts the number of recent requests within a certain time frame.\n",
    "\n",
    "Implement the `RecentCounter` class:\n",
    "\n",
    "- `RecentCounter()` Initializes the counter with zero recent requests.\n",
    "- `int ping(int t)` Adds a new request at time `t`, where `t` represents some time in milliseconds, and returns the number of requests that has happened in the past `3000` milliseconds (including the new request). Specifically, return the number of requests that have happened in the inclusive range `[t - 3000, t]`.\n",
    "\n",
    "It is **guaranteed** that every call to `ping` uses a strictly larger value of `t` than the previous call.\n",
    "\n",
    "#### Example 1:\n",
    "Input\n",
    "[\"RecentCounter\", \"ping\", \"ping\", \"ping\", \"ping\"]\n",
    "[[], [1], [100], [3001], [3002]]\n",
    "Output\n",
    "[null, 1, 2, 3, 3]\n",
    "\n",
    "Explanation\n",
    "RecentCounter recentCounter = new RecentCounter();\n",
    "recentCounter.ping(1);     // requests = [1], range is [-2999,1], return 1\n",
    "recentCounter.ping(100);   // requests = [1,100], range is [-2900,100], return 2\n",
    "recentCounter.ping(3001);  // requests = [1,100,3001], range is [1,3001], return 3\n",
    "recentCounter.ping(3002);  // requests = [1,100,3001,3002], range is [2,3002], return 3"
   ]
  },
  {
   "cell_type": "code",
   "execution_count": 15,
   "id": "4444e0fb",
   "metadata": {},
   "outputs": [],
   "source": [
    "def ping(t):\n",
    "    ans=[]\n",
    "    ans.append(t)\n",
    "    while(ans[0]<(t-3000)):\n",
    "        ans.pop(0)\n",
    "        \n",
    "    return len(ans)\n",
    "        "
   ]
  },
  {
   "cell_type": "markdown",
   "id": "d02058d5",
   "metadata": {},
   "source": [
    "####  **Question 5**\n",
    "\n",
    "There are `n` friends that are playing a game. The friends are sitting in a circle and are numbered from `1` to `n` in **clockwise order**. More formally, moving clockwise from the `ith` friend brings you to the `(i+1)th` friend for `1 <= i < n`, and moving clockwise from the `nth` friend brings you to the `1st` friend.\n",
    "\n",
    "The rules of the game are as follows:\n",
    "\n",
    "1. **Start** at the `1st` friend.\n",
    "2. Count the next `k` friends in the clockwise direction **including** the friend you started at. The counting wraps around the circle and may count some friends more than once.\n",
    "3. The last friend you counted leaves the circle and loses the game.\n",
    "4. If there is still more than one friend in the circle, go back to step `2` **starting** from the friend **immediately clockwise** of the friend who just lost and repeat.\n",
    "5. Else, the last friend in the circle wins the game.\n",
    "\n",
    "Given the number of friends, `n`, and an integer `k`, return *the winner of the game*.\n",
    "\n",
    "#### **Example 1:**\n",
    "Input: n = 5, k = 2\n",
    "Output: 3\n",
    "Explanation: Here are the steps of the game:\n",
    "1) Start at friend 1.\n",
    "2) Count 2 friends clockwise, which are friends 1 and 2.\n",
    "3) Friend 2 leaves the circle. Next start is friend 3.\n",
    "4) Count 2 friends clockwise, which are friends 3 and 4.\n",
    "5) Friend 4 leaves the circle. Next start is friend 5.\n",
    "6) Count 2 friends clockwise, which are friends 5 and 1.\n",
    "7) Friend 1 leaves the circle. Next start is friend 3.\n",
    "8) Count 2 friends clockwise, which are friends 3 and 5.\n",
    "9) Friend 5 leaves the circle. Only friend 3 is left, so they are the winner."
   ]
  },
  {
   "cell_type": "code",
   "execution_count": 19,
   "id": "5d3d28e8",
   "metadata": {},
   "outputs": [
    {
     "name": "stdout",
     "output_type": "stream",
     "text": [
      "3\n",
      "1\n"
     ]
    }
   ],
   "source": [
    "def findwinner(n,k):\n",
    "    l = [i for i in range(1,n+1)]\n",
    "    #print(l)\n",
    "    while len(l)!=1:\n",
    "        for i in range(k-1):\n",
    "            p=l.pop(0)\n",
    "            l.append(p)\n",
    "            \n",
    "        l.pop(0)\n",
    "        \n",
    "    return l[0]\n",
    "\n",
    "print(findwinner(5,2))\n",
    "print(findwinner(6,5))"
   ]
  },
  {
   "cell_type": "markdown",
   "id": "bf32bde4",
   "metadata": {},
   "source": [
    "#### **Question 7**\n",
    "\n",
    "Design a queue that supports `push` and `pop` operations in the front, middle, and back.\n",
    "\n",
    "Implement the `FrontMiddleBack` class:\n",
    "\n",
    "- `FrontMiddleBack()` Initializes the queue.\n",
    "- `void pushFront(int val)` Adds `val` to the **front** of the queue.\n",
    "- `void pushMiddle(int val)` Adds `val` to the **middle** of the queue.\n",
    "- `void pushBack(int val)` Adds `val` to the **back** of the queue.\n",
    "- `int popFront()` Removes the **front** element of the queue and returns it. If the queue is empty, return `1`.\n",
    "- `int popMiddle()` Removes the **middle** element of the queue and returns it. If the queue is empty, return `1`.\n",
    "- `int popBack()` Removes the **back** element of the queue and returns it. If the queue is empty, return `1`.\n",
    "\n",
    "**Notice** that when there are **two** middle position choices, the operation is performed on the **frontmost** middle position choice. For example:\n",
    "\n",
    "- Pushing `6` into the middle of `[1, 2, 3, 4, 5]` results in `[1, 2, 6, 3, 4, 5]`.\n",
    "- Popping the middle from `[1, 2, 3, 4, 5, 6]` returns `3` and results in `[1, 2, 4, 5, 6]`.\n",
    "\n",
    "#### **Example 1:**\n",
    "Input:\n",
    "[\"FrontMiddleBackQueue\", \"pushFront\", \"pushBack\", \"pushMiddle\", \"pushMiddle\", \"popFront\", \"popMiddle\", \"popMiddle\", \"popBack\", \"popFront\"]\n",
    "[[], [1], [2], [3], [4], [], [], [], [], []]\n",
    "Output:\n",
    "[null, null, null, null, null, 1, 3, 4, 2, -1]\n",
    "\n",
    "Explanation:\n",
    "FrontMiddleBackQueue q = new FrontMiddleBackQueue();\n",
    "q.pushFront(1);   // [1]\n",
    "q.pushBack(2);    // [1,2]\n",
    "q.pushMiddle(3);  // [1,3, 2]\n",
    "q.pushMiddle(4);  // [1,4, 3, 2]\n",
    "q.popFront();     // return 1 -> [4, 3, 2]\n",
    "q.popMiddle();    // return 3 -> [4, 2]\n",
    "q.popMiddle();    // return 4 -> [2]\n",
    "q.popBack();      // return 2 -> []\n",
    "q.popFront();     // return -1 -> [] (The queue is empty)"
   ]
  },
  {
   "cell_type": "code",
   "execution_count": 32,
   "id": "49e9fc9d",
   "metadata": {},
   "outputs": [
    {
     "name": "stdout",
     "output_type": "stream",
     "text": [
      "None\n",
      "None\n",
      "None\n",
      "1\n",
      "3\n",
      "2\n"
     ]
    }
   ],
   "source": [
    "class FrontMiddleBack:\n",
    "    def __init__(self):\n",
    "        self.lst=[]\n",
    "    def pushFront(self,val):\n",
    "        self.lst.insert(0,val)\n",
    "        return None\n",
    "        \n",
    "    def pushMiddle(self,val):\n",
    "        k=len(self.lst)//2\n",
    "        self.lst.insert(k,val)\n",
    "        return None\n",
    "        \n",
    "    def pushBack(self,val):\n",
    "        self.lst.append(val)\n",
    "        return None\n",
    "    \n",
    "    def popFront(self):\n",
    "        k=self.lst.pop(0)\n",
    "        return k\n",
    "    \n",
    "    def popMiddle(self):\n",
    "        p=len(self.lst)//2\n",
    "        k=self.lst.pop(p)\n",
    "        return k\n",
    "        \n",
    "    def popBack(self):\n",
    "        k=self.lst.pop()\n",
    "        return k\n",
    "    \n",
    "l=FrontMiddleBack()\n",
    "print(l.pushFront(1))\n",
    "print(l.pushBack(3))\n",
    "print(l.pushMiddle(2))\n",
    "print(l.popFront())\n",
    "print(l.popBack())\n",
    "print(l.popMiddle())\n",
    "        "
   ]
  },
  {
   "cell_type": "markdown",
   "id": "19c8347b",
   "metadata": {},
   "source": [
    "#### **Question 8**\n",
    "\n",
    "For a stream of integers, implement a data structure that checks if the last `k` integers parsed in the stream are **equal** to `value`.\n",
    "\n",
    "Implement the **DataStream** class:\n",
    "\n",
    "- `DataStream(int value, int k)` Initializes the object with an empty integer stream and the two integers `value` and `k`.\n",
    "- `boolean consec(int num)` Adds `num` to the stream of integers. Returns `true` if the last `k` integers are equal to `value`, and `false` otherwise. If there are less than `k` integers, the condition does not hold true, so returns `false`.\n",
    "#### Example 1:\n",
    "Input\n",
    "[\"DataStream\", \"consec\", \"consec\", \"consec\", \"consec\"]\n",
    "[[4, 3], [4], [4], [4], [3]]\n",
    "Output\n",
    "[null, false, false, true, false]\n",
    "\n",
    "Explanation\n",
    "DataStream dataStream = new DataStream(4, 3); //value = 4, k = 3\n",
    "dataStream.consec(4); // Only 1 integer is parsed, so returns False.\n",
    "dataStream.consec(4); // Only 2 integers are parsed.\n",
    "                      // Since 2 is less than k, returns False.\n",
    "dataStream.consec(4); // The 3 integers parsed are all equal to value, so returns True.\n",
    "dataStream.consec(3); // The last k integers parsed in the stream are [4,4,3].\n",
    "                      // Since 3 is not equal to value, it returns False."
   ]
  },
  {
   "cell_type": "code",
   "execution_count": 35,
   "id": "6e7a1337",
   "metadata": {},
   "outputs": [
    {
     "name": "stdout",
     "output_type": "stream",
     "text": [
      "False\n",
      "False\n",
      "True\n",
      "False\n"
     ]
    }
   ],
   "source": [
    "class DataStream:\n",
    "    def __init__(self,val,k):\n",
    "        self.val=val\n",
    "        self.k=k\n",
    "        self.count=0\n",
    "        \n",
    "    def consec(self,v):\n",
    "        if self.val==v:\n",
    "            self.count+=1\n",
    "            if self.count>=self.k:\n",
    "                return True\n",
    "        elif self.val!=v and self.count!=0:\n",
    "            self.count=0\n",
    "        return False\n",
    "    \n",
    "d = DataStream(4,3)\n",
    "print(d.consec(4))\n",
    "print(d.consec(4))\n",
    "print(d.consec(4))\n",
    "print(d.consec(3))\n",
    "            "
   ]
  },
  {
   "cell_type": "code",
   "execution_count": null,
   "id": "98902a05",
   "metadata": {},
   "outputs": [],
   "source": []
  }
 ],
 "metadata": {
  "kernelspec": {
   "display_name": "Python 3 (ipykernel)",
   "language": "python",
   "name": "python3"
  },
  "language_info": {
   "codemirror_mode": {
    "name": "ipython",
    "version": 3
   },
   "file_extension": ".py",
   "mimetype": "text/x-python",
   "name": "python",
   "nbconvert_exporter": "python",
   "pygments_lexer": "ipython3",
   "version": "3.9.7"
  }
 },
 "nbformat": 4,
 "nbformat_minor": 5
}
