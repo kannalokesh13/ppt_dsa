{
 "cells": [
  {
   "cell_type": "markdown",
   "metadata": {},
   "source": [
    "#### Question 1\n",
    "#### Given an integer array nums of length n and an integer target, find three integers in nums such that the sum is closest to the target. Return the sum of the three integers.\n",
    "#### You may assume that each input would have exactly one solution.\n",
    "#### Example 1:\n",
    "#### Input: nums = [-1,2,1,-4], target = 1\n",
    "#### Output: 2\n",
    "#### Explanation: The sum that is closest to the target is 2. (-1 + 2 + 1 = 2)."
   ]
  },
  {
   "cell_type": "code",
   "execution_count": 1,
   "metadata": {},
   "outputs": [
    {
     "name": "stdout",
     "output_type": "stream",
     "text": [
      "2\n"
     ]
    }
   ],
   "source": [
    "import sys\n",
    "nums = [-1,2,1,-4]\n",
    "target = 1\n",
    "\n",
    "def threesumclose(lst,target):\n",
    "    lst.sort()\n",
    "    diff = 100\n",
    "    ans = 0\n",
    "    for i in range(len(lst)-1):\n",
    "        start = i+1\n",
    "        end = len(nums)-1\n",
    "        while start<end:\n",
    "            val = lst[i]+lst[start]+lst[end]\n",
    "            if val<target:\n",
    "                start+=1\n",
    "            elif val>target:\n",
    "                end = end-1\n",
    "            elif val==target:\n",
    "                return target\n",
    "            elif abs(val-target)<abs(diff):\n",
    "                diff = abs(val-target)\n",
    "                ans = val\n",
    "                \n",
    "    return val\n",
    "    \n",
    "print(threesumclose(nums,target))"
   ]
  },
  {
   "cell_type": "markdown",
   "metadata": {},
   "source": [
    "#### **Question 3**\n",
    "#### A permutation of an array of integers is an arrangement of its members into a sequence or linear order.\\\n",
    "#### For example, for arr = [1,2,3], the following are all the permutations of arr: [1,2,3], [1,3,2], [2, 1, 3], [2, 3, 1], [3,1,2], [3,2,1].\n",
    "#### The next permutation of an array of integers is the next lexicographically greater permutation of its integer. More formally, if all the permutations of the array are sorted in one container according to their lexicographical order, then the next permutation of that array is the permutation that follows it in the sorted container.\n",
    "#### If such an arrangement is not possible, the array must be rearranged as the lowest possible order (i.e., sorted in ascending order).\n",
    "#### **Example 1:**\n",
    "#### Input: nums = [1,2,3]\n",
    "#### Output: [1,3,2]"
   ]
  },
  {
   "cell_type": "code",
   "execution_count": 2,
   "metadata": {},
   "outputs": [
    {
     "name": "stdout",
     "output_type": "stream",
     "text": [
      "[1, 3, 2]\n"
     ]
    }
   ],
   "source": [
    "nums = [1,2,3]\n",
    "\n",
    "def nextpermutation(nums):\n",
    "    l1 = len(nums)-1\n",
    "    l2 = l1-1\n",
    "    if len(nums)<=2:\n",
    "        return nums.reverse()\n",
    "    \n",
    "    while l2>=0 and nums[l2]>=nums[l1]:\n",
    "        l2-=1\n",
    "        \n",
    "    if l2 == -1:\n",
    "        return nums.reverse()\n",
    "    \n",
    "    for i in range(l1,l2,-1):\n",
    "        if nums[l2]<nums[i]:\n",
    "            nums[l2],nums[i]=nums[i],nums[l2]\n",
    "            break\n",
    "            \n",
    "    nums[l2+1:]=reversed(nums[l2+1:])\n",
    "    \n",
    "    return nums\n",
    "        \n",
    "print(nextpermutation(nums))\n",
    "        "
   ]
  },
  {
   "cell_type": "markdown",
   "metadata": {},
   "source": [
    "#### Question 4\n",
    "#### Given a sorted array of distinct integers and a target value, return the index if the target is found. If not, return the index where it would be if it were inserted in order.\n",
    "#### You must write an algorithm with O(log n) runtime complexity.\n",
    "#### Example 1:\n",
    "#### Input: nums = [1,3,5,6], target = 5\n",
    "#### Output: 2"
   ]
  },
  {
   "cell_type": "code",
   "execution_count": 3,
   "metadata": {},
   "outputs": [
    {
     "name": "stdout",
     "output_type": "stream",
     "text": [
      "2\n"
     ]
    }
   ],
   "source": [
    "nums = [1,3,5,6]\n",
    "target = 5\n",
    "\n",
    "def findelement(nums,target):\n",
    "    if target in nums:\n",
    "        return nums.index(target)\n",
    "    else:\n",
    "        return -1\n",
    "    \n",
    "print(findelement(nums,target))"
   ]
  },
  {
   "cell_type": "markdown",
   "metadata": {},
   "source": [
    "#### **Question 5**\n",
    "#### You are given a large integer represented as an integer array digits, where each digits[i] is the ith digit of the integer. The digits are ordered from most significant to least significant in left-to-right order. The large integer does not contain any leading 0's.\n",
    "#### Increment the large integer by one and return the resulting array of digits. \n",
    "#### **Example 1:**\n",
    "#### Input: digits = [1,2,3]\n",
    "#### Output: [1,2,4]"
   ]
  },
  {
   "cell_type": "code",
   "execution_count": 4,
   "metadata": {},
   "outputs": [
    {
     "name": "stdout",
     "output_type": "stream",
     "text": [
      "[1, 2, 4]\n"
     ]
    }
   ],
   "source": [
    "digits = [1,2,3]\n",
    "\n",
    "def convert(digits):\n",
    "    s = \" \"\n",
    "    l = []\n",
    "    for i in digits:\n",
    "        s += str(i)\n",
    "    n = int(s)\n",
    "    n = n+1\n",
    "    n = str(n)\n",
    "    for k in n:\n",
    "        l.append(int(k))\n",
    "    return l\n",
    "\n",
    "print(convert(digits))"
   ]
  },
  {
   "cell_type": "markdown",
   "metadata": {},
   "source": [
    "#### Question 6\n",
    "#### Given a non-empty array of integers nums, every element appears twice except for one. Find that single one.\n",
    "#### You must implement a solution with a linear runtime complexity and use only constant extra space.\n",
    "#### Example 1:\n",
    "#### Input: nums = [2,2,1]\n",
    "#### Output: 1"
   ]
  },
  {
   "cell_type": "code",
   "execution_count": 5,
   "metadata": {},
   "outputs": [
    {
     "name": "stdout",
     "output_type": "stream",
     "text": [
      "1\n"
     ]
    }
   ],
   "source": [
    "nums = [2,2,1]\n",
    "\n",
    "def findnum(lst):\n",
    "    for i in range(len(lst)):\n",
    "        if lst.count(lst[i]) == 1:\n",
    "            return lst[i]\n",
    "        \n",
    "print(findnum(nums))"
   ]
  },
  {
   "cell_type": "markdown",
   "metadata": {},
   "source": [
    "#### Question 7\n",
    "#### You are given an inclusive range [lower, upper] and a sorted unique integer array\\ nums, where all elements are within the inclusive range.\n",
    "#### A number x is considered missing if x is in the range [lower, upper] and x is not in nums.\n",
    "#### Return the shortest sorted list of ranges that exactly covers all the missing numbers. That is, no element of nums is included in any of the ranges, and each missing number is covered by one of the ranges.\n",
    "#### Example 1:\n",
    "#### Input: nums = [0,1,3,50,75], lower = 0, upper = 99\n",
    "#### Output: [[2,2],[4,49],[51,74],[76,99]]\n"
   ]
  },
  {
   "cell_type": "code",
   "execution_count": 6,
   "metadata": {},
   "outputs": [
    {
     "name": "stdout",
     "output_type": "stream",
     "text": [
      "[[2, 2], [4, 49], [51, 74], [76, 99]]\n"
     ]
    }
   ],
   "source": [
    "nums = [0,1,3,50,75]\n",
    "lower = 0\n",
    "upper = 99\n",
    "\n",
    "def missingranges(nums,lower,upper):\n",
    "    l =[] \n",
    "    nums.append(upper+1)\n",
    "    previous = lower-1\n",
    "    for num in nums:\n",
    "        if num == previous+2:\n",
    "            l.append([previous+1,previous+1])\n",
    "            \n",
    "        elif num>previous+2:\n",
    "            l.append([previous+1,num-1])\n",
    "            \n",
    "        previous=num\n",
    "        \n",
    "            \n",
    "    return l\n",
    "\n",
    "print(missingranges(nums,lower,upper))\n",
    "        \n",
    "    "
   ]
  },
  {
   "cell_type": "markdown",
   "metadata": {},
   "source": [
    "#### Question 8\n",
    "#### Given an array of meeting time intervals where intervals[i] = [starti, endi], determine if a person could attend all meetings.\n",
    "#### Example 1:\n",
    "#### Input: intervals = [[0,30],[5,10],[15,20]]\n",
    "#### Output: false"
   ]
  },
  {
   "cell_type": "code",
   "execution_count": 7,
   "metadata": {},
   "outputs": [
    {
     "name": "stdout",
     "output_type": "stream",
     "text": [
      "False\n"
     ]
    }
   ],
   "source": [
    "nums = [[0,30],[5,10],[15,20]]\n",
    "\n",
    "def checkmeet(lst):\n",
    "    lst.sort(key = lambda x: x[0])\n",
    "#     print(lst)\n",
    "    for i in range(len(lst)-1):\n",
    "        i1 = lst[i]\n",
    "        i2 = lst[i+1]\n",
    "        if i1[1]>i2[0]:\n",
    "            return False\n",
    "    return True\n",
    "\n",
    "print(checkmeet(nums))"
   ]
  },
  {
   "cell_type": "code",
   "execution_count": null,
   "metadata": {},
   "outputs": [],
   "source": []
  }
 ],
 "metadata": {
  "kernelspec": {
   "display_name": "Python 3",
   "language": "python",
   "name": "python3"
  },
  "language_info": {
   "codemirror_mode": {
    "name": "ipython",
    "version": 3
   },
   "file_extension": ".py",
   "mimetype": "text/x-python",
   "name": "python",
   "nbconvert_exporter": "python",
   "pygments_lexer": "ipython3",
   "version": "3.6.5"
  }
 },
 "nbformat": 4,
 "nbformat_minor": 2
}
