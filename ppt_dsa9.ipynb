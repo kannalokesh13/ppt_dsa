{
 "cells": [
  {
   "cell_type": "markdown",
   "metadata": {},
   "source": [
    "#### **Question 1**\n",
    "#### Given an integer `n`, return *`true` if it is a power of two. Otherwise, return `false`*.\n",
    "#### An integer `n` is a power of two, if there exists an integer `x` such that `n == 2x`.\n",
    "#### **Example 1:**\n",
    "#### Input: n = 1 \n",
    "#### Output: true\n",
    "#### **Example 2:**\n",
    "#### Input: n = 16 \n",
    "#### Output: true\n",
    "#### **Example 3:**\n",
    "#### Input: n = 3 \n",
    "#### Output: false"
   ]
  },
  {
   "cell_type": "code",
   "execution_count": 3,
   "metadata": {},
   "outputs": [
    {
     "name": "stdout",
     "output_type": "stream",
     "text": [
      "True\n",
      "True\n",
      "False\n"
     ]
    }
   ],
   "source": [
    "def powerof2(num):\n",
    "    if num == 1:\n",
    "        return True\n",
    "    elif num<0 or num%2!=0:\n",
    "        return False\n",
    "    return powerof2(num//2)\n",
    "\n",
    "print(powerof2(1))\n",
    "print(powerof2(16))\n",
    "print(powerof2(3))"
   ]
  },
  {
   "cell_type": "markdown",
   "metadata": {},
   "source": [
    "#### **Question 2**\n",
    "#### Given a number n, find the sum of the first natural numbers.\n",
    "#### **Example 1:**\n",
    "#### Input: n = 3 \n",
    "#### Output: 6\n",
    "#### **Example 2:**\n",
    "#### Input  : 5 \n",
    "#### Output : 15"
   ]
  },
  {
   "cell_type": "code",
   "execution_count": 6,
   "metadata": {},
   "outputs": [
    {
     "name": "stdout",
     "output_type": "stream",
     "text": [
      "6\n",
      "15\n"
     ]
    }
   ],
   "source": [
    "def sumofnum(num):\n",
    "    if num==1:\n",
    "        return 1\n",
    "    return num+sumofnum(num-1)\n",
    "\n",
    "print(sumofnum(3))\n",
    "print(sumofnum(5))"
   ]
  },
  {
   "cell_type": "markdown",
   "metadata": {},
   "source": [
    "#### **Question 3**\n",
    "#### ****Given a positive integer, N. Find the factorial of N. \n",
    "#### **Example 1:**\n",
    "#### Input: N = 5 \n",
    "#### Output: 120\n",
    "#### **Example 2:**\n",
    "#### Input: N = 4\n",
    "#### Output: 24"
   ]
  },
  {
   "cell_type": "code",
   "execution_count": 9,
   "metadata": {},
   "outputs": [
    {
     "name": "stdout",
     "output_type": "stream",
     "text": [
      "120\n",
      "24\n"
     ]
    }
   ],
   "source": [
    "def fact(num):\n",
    "    if num==0 or num==1:\n",
    "        return 1\n",
    "    elif num<0:\n",
    "        return False\n",
    "    return num*fact(num-1)\n",
    "\n",
    "print(fact(5))\n",
    "print(fact(4))"
   ]
  },
  {
   "cell_type": "markdown",
   "metadata": {},
   "source": [
    "#### **Question 4**\n",
    "#### Given a number N and a power P, the task is to find the exponent of this number raised to the given power, i.e. N^P.\n",
    "#### **Example 1 :** \n",
    "#### Input: N = 5, P = 2\n",
    "#### Output: 25\n",
    "#### **Example 2 :**\n",
    "#### Input: N = 2, P = 5\n",
    "#### Output: 32"
   ]
  },
  {
   "cell_type": "code",
   "execution_count": 15,
   "metadata": {},
   "outputs": [
    {
     "name": "stdout",
     "output_type": "stream",
     "text": [
      "25\n",
      "32\n"
     ]
    }
   ],
   "source": [
    "def power(n,p):\n",
    "    if p==0:\n",
    "        return 1\n",
    "    return n*power(n,p-1)\n",
    "\n",
    "print(power(5,2))\n",
    "print(power(2,5))"
   ]
  },
  {
   "cell_type": "markdown",
   "metadata": {},
   "source": [
    "#### **Question 5**\n",
    "#### Given an array of integers **arr**, the task is to find maximum element of that array using recursion.\n",
    "#### **Example 1:**\n",
    "#### Input: arr = {1, 4, 3, -5, -4, 8, 6};\n",
    "#### Output: 8\n",
    "#### **Example 2:**\n",
    "#### Input: arr = {1, 4, 45, 6, 10, -8};\n",
    "#### Output: 45"
   ]
  },
  {
   "cell_type": "code",
   "execution_count": 25,
   "metadata": {},
   "outputs": [
    {
     "name": "stdout",
     "output_type": "stream",
     "text": [
      "8\n"
     ]
    }
   ],
   "source": [
    "def find_max(arr, i):\n",
    "    # Base case\n",
    "    if i == len(arr) - 1:\n",
    "        return arr[i]\n",
    "    \n",
    "    max_remaining = find_max(arr, i + 1)\n",
    "    return max(arr[i], max_remaining)\n",
    "\n",
    "arr = [1, 4, 3, -5, -4, 8, 6]\n",
    "max_element = find_max(arr, 0)\n",
    "print(max_element)\n"
   ]
  },
  {
   "cell_type": "markdown",
   "metadata": {},
   "source": [
    "#### **Question 6**\n",
    "#### Given first term (a), common difference (d) and a integer N of the Arithmetic Progression series, the task is to find Nth term of the series.\n",
    "#### **Example 1:**\n",
    "#### Input : a = 2 d = 1 N = 5\n",
    "#### Output : 6\n",
    "#### The 5th term of the series is : 6\n",
    "#### **Example 2:**\n",
    "#### Input : a = 5 d = 2 N = 10\n",
    "#### Output : 23\n",
    "#### The 10th term of the series is : 23"
   ]
  },
  {
   "cell_type": "code",
   "execution_count": 20,
   "metadata": {},
   "outputs": [
    {
     "name": "stdout",
     "output_type": "stream",
     "text": [
      "6\n",
      "23\n"
     ]
    }
   ],
   "source": [
    "def arithmaticprogerssion(a,d,n):\n",
    "    if n<0:\n",
    "        return False\n",
    "    return a+(n-1)*d\n",
    "\n",
    "print(arithmaticprogerssion(2,1,5))\n",
    "print(arithmaticprogerssion(5,2,10))"
   ]
  },
  {
   "cell_type": "markdown",
   "metadata": {},
   "source": [
    "#### **Question 7**\n",
    "#### Given a string S, the task is to write a program to print all permutations of a given string.\n",
    "#### **Example 1:**\n",
    "#### ***Input:***\n",
    "#### *S = “ABC”*\n",
    "#### ***Output:***\n",
    "#### *“ABC”, “ACB”, “BAC”, “BCA”, “CBA”, “CAB”*\n",
    "#### **Example 2:**\n",
    "#### ***Input:***\n",
    "#### *S = “XY”*\n",
    "#### ***Output:***\n",
    "#### *“XY”, “YX”*"
   ]
  },
  {
   "cell_type": "code",
   "execution_count": 26,
   "metadata": {},
   "outputs": [
    {
     "name": "stdout",
     "output_type": "stream",
     "text": [
      "XYZ\n",
      "XZY\n",
      "YXZ\n",
      "YZX\n",
      "ZXY\n",
      "ZYX\n"
     ]
    }
   ],
   "source": [
    "def permute(s):\n",
    "    if len(s) == 1:\n",
    "        return [s]\n",
    "\n",
    "    permutations = []\n",
    "    for i in range(len(s)):\n",
    "        first_char = s[i]\n",
    "        remaining_chars = s[:i] + s[i+1:]\n",
    "        for perm in permute(remaining_chars):\n",
    "            permutations.append(first_char + perm)\n",
    "\n",
    "    return permutations\n",
    "\n",
    "\n",
    "S = \"XYZ\"\n",
    "permutations = permute(S)\n",
    "for perm in permutations:\n",
    "    print(perm)\n"
   ]
  },
  {
   "cell_type": "markdown",
   "metadata": {},
   "source": [
    "#### **Question 8**\n",
    "#### Given an array, find a product of all array elements.\n",
    "#### **Example 1:**\n",
    "#### Input  : arr[] = {1, 2, 3, 4, 5}\n",
    "#### Output : 120\n",
    "#### **Example 2:**\n",
    "#### Input  : arr[] = {1, 6, 3}\n",
    "#### Output : 18"
   ]
  },
  {
   "cell_type": "code",
   "execution_count": 28,
   "metadata": {},
   "outputs": [
    {
     "name": "stdout",
     "output_type": "stream",
     "text": [
      "120\n",
      "18\n"
     ]
    }
   ],
   "source": [
    "def prod(arr,i):\n",
    "    if i==len(arr)-1:\n",
    "        return arr[i]\n",
    "    return arr[i]*prod(arr,i+1)\n",
    "\n",
    "print(prod([1,2,3,4,5],0))\n",
    "print(prod([1,6,3],0))"
   ]
  },
  {
   "cell_type": "code",
   "execution_count": null,
   "metadata": {},
   "outputs": [],
   "source": []
  }
 ],
 "metadata": {
  "kernelspec": {
   "display_name": "Python 3",
   "language": "python",
   "name": "python3"
  },
  "language_info": {
   "codemirror_mode": {
    "name": "ipython",
    "version": 3
   },
   "file_extension": ".py",
   "mimetype": "text/x-python",
   "name": "python",
   "nbconvert_exporter": "python",
   "pygments_lexer": "ipython3",
   "version": "3.6.5"
  }
 },
 "nbformat": 4,
 "nbformat_minor": 2
}
